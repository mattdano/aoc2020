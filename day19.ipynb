{
 "cells": [
  {
   "cell_type": "code",
   "execution_count": 8,
   "metadata": {},
   "outputs": [],
   "source": [
    "f = open('./day19/input.txt')\n",
    "lines = f.read()\n",
    "f.close()"
   ]
  },
  {
   "cell_type": "code",
   "execution_count": null,
   "metadata": {},
   "outputs": [],
   "source": []
  },
  {
   "cell_type": "code",
   "execution_count": 11,
   "metadata": {},
   "outputs": [],
   "source": [
    "rawrules,  message = lines.split('\\n\\n')"
   ]
  },
  {
   "cell_type": "code",
   "execution_count": 32,
   "metadata": {},
   "outputs": [],
   "source": [
    "messages = message.split('\\n')"
   ]
  },
  {
   "cell_type": "code",
   "execution_count": 53,
   "metadata": {},
   "outputs": [
    {
     "name": "stdout",
     "output_type": "stream",
     "text": [
      "109\n",
      "301\n"
     ]
    }
   ],
   "source": [
    "from collections import defaultdict\n",
    "rules = defaultdict(list)\n",
    "\n",
    "for r in rawrules.split('\\n'):\n",
    "    id, valid = r.split(\": \")\n",
    "    for v in valid.split(' | '):\n",
    "        #print(v,v.split(' '))\n",
    "        if 'b' in v:\n",
    "            rules[int(id)] = 'b'\n",
    "        elif 'a' in v:\n",
    "            rules[int(id)] = 'a'\n",
    "        else:\n",
    "            rules[int(id)].append(list(map(int,v.split(' '))))\n",
    "\n",
    "def process(mess,rule):\n",
    "    if not rule:\n",
    "        return len(mess) == 0 \n",
    "    sub = rules[rule.pop(0)]\n",
    "    if sub in ['a','b']:\n",
    "        return mess.startswith(sub) and process(mess[1:],rule)\n",
    "    else:\n",
    "        return any(process(mess,s+rule) for s in sub)\n",
    "\n",
    "\n",
    "results = []\n",
    "for m in messages:\n",
    "    #print(m)\n",
    "    ans = process(m,[0])\n",
    "    results.append(ans)\n",
    "    \n",
    "print(sum(results))\n",
    "\n",
    "rules[8],rules[11]=[[42],[42,8]],[[42,31],[42,11,31]]\n",
    "\n",
    "results = []\n",
    "for m in messages:\n",
    "    ans = process(m,[0])\n",
    "    results.append(ans)\n",
    "print(sum(results))"
   ]
  }
 ],
 "metadata": {
  "kernelspec": {
   "display_name": "Python 3",
   "language": "python",
   "name": "python3"
  },
  "language_info": {
   "codemirror_mode": {
    "name": "ipython",
    "version": 3
   },
   "file_extension": ".py",
   "mimetype": "text/x-python",
   "name": "python",
   "nbconvert_exporter": "python",
   "pygments_lexer": "ipython3",
   "version": "3.8.3"
  }
 },
 "nbformat": 4,
 "nbformat_minor": 4
}
