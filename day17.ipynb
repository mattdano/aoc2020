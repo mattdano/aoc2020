{
 "cells": [
  {
   "cell_type": "code",
   "execution_count": 1,
   "metadata": {},
   "outputs": [],
   "source": [
    "f=open('./day17/input.txt','r')\n",
    "lines = f.readlines()\n",
    "f.close()"
   ]
  },
  {
   "cell_type": "code",
   "execution_count": 155,
   "metadata": {},
   "outputs": [],
   "source": [
    "from collections import defaultdict\n",
    "grid = defaultdict(list)\n",
    "glist = []\n",
    "for l in lines:\n",
    "    s = []\n",
    "    for c in l:#.replace('\\n',''):\n",
    "        if c == '#':\n",
    "            s.append(1)\n",
    "        elif c == '.':\n",
    "            s.append(0)\n",
    "    glist.append(s)\n",
    "    \n",
    "grid[0] = glist"
   ]
  },
  {
   "cell_type": "code",
   "execution_count": 156,
   "metadata": {},
   "outputs": [
    {
     "data": {
      "text/plain": [
       "[[0, 1, 1, 1, 0, 1, 1, 1],\n",
       " [0, 1, 0, 1, 0, 0, 0, 1],\n",
       " [0, 0, 1, 1, 0, 1, 0, 0],\n",
       " [0, 0, 1, 1, 0, 0, 1, 1],\n",
       " [0, 0, 0, 0, 0, 0, 0, 0],\n",
       " [1, 1, 0, 1, 0, 1, 0, 1],\n",
       " [0, 0, 1, 1, 1, 0, 0, 0],\n",
       " [0, 1, 1, 1, 1, 0, 0, 0]]"
      ]
     },
     "execution_count": 156,
     "metadata": {},
     "output_type": "execute_result"
    }
   ],
   "source": [
    "glist"
   ]
  },
  {
   "cell_type": "code",
   "execution_count": 16,
   "metadata": {},
   "outputs": [
    {
     "data": {
      "text/plain": [
       "(23, 23, 15)"
      ]
     },
     "execution_count": 16,
     "metadata": {},
     "output_type": "execute_result"
    }
   ],
   "source": [
    "import numpy as np\n",
    "#(x,y,z)\n",
    "cyclecount = 7\n",
    "space = np.zeros((8+2*cyclecount+1,8+2*cyclecount+1,1+2*cyclecount))\n",
    "space.shape"
   ]
  },
  {
   "cell_type": "code",
   "execution_count": 22,
   "metadata": {},
   "outputs": [],
   "source": [
    "offset = 11\n",
    "offz = 7\n",
    "space[offset:offset+8,offset:offset+8,offz] = np.asarray(grid[0])"
   ]
  },
  {
   "cell_type": "code",
   "execution_count": 10,
   "metadata": {},
   "outputs": [
    {
     "data": {
      "text/plain": [
       "(8, 8)"
      ]
     },
     "execution_count": 10,
     "metadata": {},
     "output_type": "execute_result"
    }
   ],
   "source": [
    "len('.###.###'),len(lines)"
   ]
  },
  {
   "cell_type": "markdown",
   "metadata": {},
   "source": [
    "During a cycle, all cubes simultaneously change their state according to the following rules:\n",
    "\n",
    "If a cube is active and exactly 2 or 3 of its neighbors are also active, the cube remains active. Otherwise, the cube becomes inactive.\n",
    "If a cube is inactive but exactly 3 of its neighbors are active, the cube becomes active. Otherwise, the cube remains inactive.\n"
   ]
  },
  {
   "cell_type": "code",
   "execution_count": 44,
   "metadata": {},
   "outputs": [],
   "source": [
    "space = np.zeros((8+2*cyclecount+1,8+2*cyclecount+1,1+2*cyclecount))\n",
    "space[offset:offset+8,offset:offset+8,offz] = np.asarray(grid[0])\n",
    "\n"
   ]
  },
  {
   "cell_type": "code",
   "execution_count": 46,
   "metadata": {},
   "outputs": [
    {
     "data": {
      "text/plain": [
       "[[0, 1, 1, 1, 0, 1, 1, 1],\n",
       " [0, 1, 0, 1, 0, 0, 0, 1],\n",
       " [0, 0, 1, 1, 0, 1, 0, 0],\n",
       " [0, 0, 1, 1, 0, 0, 1, 1],\n",
       " [0, 0, 0, 0, 0, 0, 0, 0],\n",
       " [1, 1, 0, 1, 0, 1, 0, 1],\n",
       " [0, 0, 1, 1, 1, 0, 0, 0],\n",
       " [0, 1, 1, 1, 1, 0, 0, 0]]"
      ]
     },
     "execution_count": 46,
     "metadata": {},
     "output_type": "execute_result"
    }
   ],
   "source": [
    "grid[0]"
   ]
  },
  {
   "cell_type": "code",
   "execution_count": null,
   "metadata": {},
   "outputs": [],
   "source": [
    ".#.\n",
    "..#\n",
    "###"
   ]
  },
  {
   "cell_type": "code",
   "execution_count": 61,
   "metadata": {},
   "outputs": [],
   "source": [
    "grid[0] = [[0, 1,0],[0,0,1],[1,1,1]]"
   ]
  },
  {
   "cell_type": "code",
   "execution_count": 62,
   "metadata": {},
   "outputs": [
    {
     "data": {
      "text/plain": [
       "(21, 21, 13)"
      ]
     },
     "execution_count": 62,
     "metadata": {},
     "output_type": "execute_result"
    }
   ],
   "source": [
    "space = np.zeros((8+2*cyclecount+1,8+2*cyclecount+1,1+2*cyclecount))\n",
    "\n",
    "space.shape"
   ]
  },
  {
   "cell_type": "code",
   "execution_count": 64,
   "metadata": {},
   "outputs": [
    {
     "data": {
      "text/plain": [
       "<matplotlib.image.AxesImage at 0x7fbb7c7dfb20>"
      ]
     },
     "execution_count": 64,
     "metadata": {},
     "output_type": "execute_result"
    },
    {
     "data": {
      "image/png": "[encoded data removed]",
      "text/plain": [
       "<Figure size 432x288 with 1 Axes>"
      ]
     },
     "metadata": {
      "needs_background": "light"
     },
     "output_type": "display_data"
    }
   ],
   "source": [
    "import matplotlib.pyplot as plt\n",
    "#space[offset-4:offset+4,offset-4:offset+4,offz] = np.asarray(grid[0])\n",
    "space[offset:offset+3,offset:offset+3,offz] = np.asarray(grid[0])\n",
    "\n",
    "\n",
    "\n",
    "plt.imshow(space[:,:,offz])"
   ]
  },
  {
   "cell_type": "code",
   "execution_count": null,
   "metadata": {},
   "outputs": [],
   "source": [
    "plt.figure()\n",
    "    plt.imshow(space[:,:,offz])\n",
    "    plt.figure()\n",
    "    plt.imshow(newspace[:,:,offz])"
   ]
  },
  {
   "cell_type": "code",
   "execution_count": 138,
   "metadata": {},
   "outputs": [],
   "source": [
    "grid[0] = [[0, 1, 0, 0, 0, 0, 0, 0],\n",
    " [0, 0, 1, 0, 0, 0, 0,0],\n",
    " [1, 1, 1, 0, 0, 0, 0, 0],\n",
    "[0, 0, 0, 0, 0, 0, 0, 0],\n",
    "[0, 0, 0, 0, 0, 0, 0, 0],\n",
    "[0, 0, 0, 0, 0, 0, 0, 0],\n",
    "[0, 0, 0, 0, 0, 0, 0, 0],\n",
    " [0, 0, 0, 0, 0, 0, 0, 0]]"
   ]
  },
  {
   "cell_type": "code",
   "execution_count": 145,
   "metadata": {},
   "outputs": [
    {
     "name": "stdout",
     "output_type": "stream",
     "text": [
      "t= 0\n",
      "8 7 6\n",
      "9 8 6\n",
      "10 8 6\n",
      "8 9 6\n",
      "8 7 7\n",
      "10 8 7\n",
      "8 7 8\n",
      "9 8 8\n",
      "10 8 8\n",
      "8 9 8\n",
      "13.0\n"
     ]
    },
    {
     "data": {
      "text/plain": [
       "13.0"
      ]
     },
     "execution_count": 145,
     "metadata": {},
     "output_type": "execute_result"
    }
   ],
   "source": [
    "def neighbour_count(x,y,z,space):\n",
    "    total = 0\n",
    "    for zz in range(-1,2):\n",
    "        for yy in range(-1,2):\n",
    "            for xx in range(-1,2):\n",
    "                if xx==0 and yy==0 and yy==0:\n",
    "                    continue\n",
    "                elif space[x+xx,y+yy,z+zz] == 1:\n",
    "                    total+=1\n",
    "    return total\n",
    "\n",
    "offset = 11\n",
    "offz = 7\n",
    "cyclecount = 10\n",
    "\n",
    "space = np.zeros((8+2*cyclecount+1,8+2*cyclecount+1,1+2*cyclecount))\n",
    "space[offset-4:offset+4,offset-4:offset+4,offz] = np.asarray(grid[0])\n",
    "#space[offset:offset+3,offset:offset+3,offz] = np.asarray(grid[0])\n",
    "\n",
    "for t in range(0,1):\n",
    "    print('t=',t)\n",
    "    newspace = np.zeros((8+2*cyclecount+1,8+2*cyclecount+1,1+2*cyclecount))\n",
    "    for k in range(1,20):\n",
    "        for j in range(1,24):\n",
    "            for i in range(1,24):\n",
    "                nc = neighbour_count(i,j,k,space)\n",
    "                if space[i,j,k] == 1 and (nc==2 or nc ==3) :\n",
    "                    newspace[i,j,k] = 1\n",
    "                elif (space[i,j,k] == 0) and (nc ==3):\n",
    "                    newspace[i,j,k] = 1\n",
    "                    print(i,j,k)\n",
    "\n",
    "    space = newspace.copy()\n",
    "    print(space.sum())\n",
    "space.sum()"
   ]
  },
  {
   "cell_type": "code",
   "execution_count": 144,
   "metadata": {},
   "outputs": [
    {
     "data": {
      "text/plain": [
       "5"
      ]
     },
     "execution_count": 144,
     "metadata": {},
     "output_type": "execute_result"
    }
   ],
   "source": [
    "space = np.zeros((8+2*cyclecount+1,8+2*cyclecount+1,1+2*cyclecount))\n",
    "space[offset-4:offset+4,offset-4:offset+4,offz] = np.asarray(grid[0])\n",
    "\n",
    "neighbour_count(8,8,offz-1,space)"
   ]
  },
  {
   "cell_type": "code",
   "execution_count": 151,
   "metadata": {},
   "outputs": [
    {
     "data": {
      "text/plain": [
       "array([[0., 0., 0., 0., 0., 0., 0., 0., 0., 0., 0.],\n",
       "       [0., 0., 0., 0., 0., 0., 0., 0., 0., 0., 0.],\n",
       "       [0., 0., 0., 0., 0., 0., 0., 0., 0., 0., 0.],\n",
       "       [0., 0., 0., 0., 0., 0., 0., 0., 0., 0., 0.],\n",
       "       [0., 0., 0., 0., 0., 0., 0., 0., 0., 0., 0.],\n",
       "       [0., 0., 0., 0., 0., 0., 0., 0., 0., 0., 0.],\n",
       "       [0., 0., 0., 0., 0., 0., 0., 0., 0., 0., 0.],\n",
       "       [0., 0., 0., 0., 0., 0., 0., 0., 0., 0., 0.],\n",
       "       [0., 0., 0., 0., 0., 0., 0., 1., 0., 1., 0.],\n",
       "       [0., 0., 0., 0., 0., 0., 0., 0., 1., 0., 0.],\n",
       "       [0., 0., 0., 0., 0., 0., 0., 0., 1., 0., 0.]])"
      ]
     },
     "execution_count": 151,
     "metadata": {},
     "output_type": "execute_result"
    }
   ],
   "source": [
    "space[0:11,0:11,offz-1]"
   ]
  },
  {
   "cell_type": "code",
   "execution_count": 140,
   "metadata": {},
   "outputs": [
    {
     "data": {
      "text/plain": [
       "<matplotlib.image.AxesImage at 0x7fbb7d080c40>"
      ]
     },
     "execution_count": 140,
     "metadata": {},
     "output_type": "execute_result"
    },
    {
     "data": {
      "image/png": "[encoded data removed]",
      "text/plain": [
       "<Figure size 432x288 with 1 Axes>"
      ]
     },
     "metadata": {
      "needs_background": "light"
     },
     "output_type": "display_data"
    },
    {
     "data": {
      "image/png": "[encoded data removed]",
      "text/plain": [
       "<Figure size 432x288 with 1 Axes>"
      ]
     },
     "metadata": {
      "needs_background": "light"
     },
     "output_type": "display_data"
    },
    {
     "data": {
      "image/png": "[encoded data removed]",
      "text/plain": [
       "<Figure size 432x288 with 1 Axes>"
      ]
     },
     "metadata": {
      "needs_background": "light"
     },
     "output_type": "display_data"
    }
   ],
   "source": [
    "plt.imshow(space[:,:,offz-1])\n",
    "plt.figure()\n",
    "plt.imshow(space[:,:,offz])\n",
    "plt.figure()\n",
    "plt.imshow(space[:,:,offz+1])"
   ]
  },
  {
   "cell_type": "code",
   "execution_count": 100,
   "metadata": {},
   "outputs": [
    {
     "data": {
      "text/plain": [
       "(21, 21, 13)"
      ]
     },
     "execution_count": 100,
     "metadata": {},
     "output_type": "execute_result"
    }
   ],
   "source": [
    "space.shape"
   ]
  },
  {
   "cell_type": "code",
   "execution_count": 192,
   "metadata": {},
   "outputs": [
    {
     "name": "stdout",
     "output_type": "stream",
     "text": [
      "384\n",
      "2012\n"
     ]
    }
   ],
   "source": [
    "from collections import Counter\n",
    "\n",
    "f=open('./day17/input.txt','r')\n",
    "lines = f.readlines()\n",
    "f.close()\n",
    "\n",
    "n=3\n",
    "def calc(n=3):\n",
    "    neighbors = [()]\n",
    "    for x in range(n):\n",
    "        neighbors = [x + (i,) for i in [-1, 0, 1] for x in neighbors]\n",
    "    neighbors.remove(n * (0,))\n",
    "\n",
    "    g = (0,)*(n-2)\n",
    "    state = set()\n",
    "    for j,l in enumerate(lines):\n",
    "        s = []\n",
    "        for i,c in enumerate(l):\n",
    "            if c == '#':\n",
    "                state.add(g+(i,j))\n",
    "\n",
    "    for i in range(6):\n",
    "        #some mental shit stolen from reddit\n",
    "        state = set(pos for pos, cnt in Counter(tuple(map(sum, zip(pos, n))) for pos in state for n in neighbors).items() if cnt == 3 or pos in state and cnt == 2)\n",
    "\n",
    "    print(len(state))\n",
    "\n",
    "calc(3)\n",
    "calc(4)"
   ]
  },
  {
   "cell_type": "code",
   "execution_count": null,
   "metadata": {},
   "outputs": [],
   "source": []
  }
 ],
 "metadata": {
  "kernelspec": {
   "display_name": "Python 3",
   "language": "python",
   "name": "python3"
  },
  "language_info": {
   "codemirror_mode": {
    "name": "ipython",
    "version": 3
   },
   "file_extension": ".py",
   "mimetype": "text/x-python",
   "name": "python",
   "nbconvert_exporter": "python",
   "pygments_lexer": "ipython3",
   "version": "3.8.3"
  }
 },
 "nbformat": 4,
 "nbformat_minor": 4
}
