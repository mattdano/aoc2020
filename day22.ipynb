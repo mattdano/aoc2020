{
 "cells": [
  {
   "cell_type": "code",
   "execution_count": 45,
   "metadata": {},
   "outputs": [],
   "source": [
    "f = open('day22/input.txt','r')\n",
    "lines = f.read().split('\\n\\n')\n",
    "f.close()"
   ]
  },
  {
   "cell_type": "code",
   "execution_count": 29,
   "metadata": {},
   "outputs": [],
   "source": [
    "p1deck,p2deck = [[9, 2, 6, 3, 1,]\n",
    "        ,[5, 8, 4, 7, 10]]"
   ]
  },
  {
   "cell_type": "code",
   "execution_count": 46,
   "metadata": {},
   "outputs": [],
   "source": [
    "p1deck = list(map(int,lines[0].replace('Player 1:\\n','').split('\\n')))\n",
    "p2deck = list(map(int,lines[1][:-1].replace('Player 2:\\n','').split('\\n')))"
   ]
  },
  {
   "cell_type": "code",
   "execution_count": 50,
   "metadata": {},
   "outputs": [
    {
     "name": "stdout",
     "output_type": "stream",
     "text": [
      "p2 won\n"
     ]
    }
   ],
   "source": [
    "while len(p1deck)>0 and len(p2deck)>0:\n",
    "    p1draw = p1deck.pop(0)\n",
    "    p2draw = p2deck.pop(0)\n",
    "    if p1draw>p2draw:\n",
    "        p1deck.append(p1draw)\n",
    "        p1deck.append(p2draw)\n",
    "    elif p2draw>p1draw:\n",
    "        p2deck.append(p2draw)\n",
    "        p2deck.append(p1draw)\n",
    "    else:\n",
    "        print(p1draw,p2draw)\n",
    "    #print(p1deck)\n",
    "    #print(p2deck)\n",
    "if len(p1deck)>len(p2deck):\n",
    "    print('p1 won')\n",
    "else:\n",
    "    print('p2 won')"
   ]
  },
  {
   "cell_type": "code",
   "execution_count": 48,
   "metadata": {},
   "outputs": [
    {
     "data": {
      "text/plain": [
       "[21,\n",
       " 10,\n",
       " 28,\n",
       " 8,\n",
       " 18,\n",
       " 5,\n",
       " 40,\n",
       " 9,\n",
       " 36,\n",
       " 7,\n",
       " 48,\n",
       " 3,\n",
       " 32,\n",
       " 2,\n",
       " 37,\n",
       " 34,\n",
       " 47,\n",
       " 44,\n",
       " 43,\n",
       " 42,\n",
       " 49,\n",
       " 29,\n",
       " 38,\n",
       " 13,\n",
       " 45,\n",
       " 39,\n",
       " 31,\n",
       " 26,\n",
       " 24,\n",
       " 15,\n",
       " 33,\n",
       " 30,\n",
       " 16,\n",
       " 1,\n",
       " 25,\n",
       " 20,\n",
       " 23,\n",
       " 17,\n",
       " 41,\n",
       " 27,\n",
       " 19,\n",
       " 14,\n",
       " 50,\n",
       " 22,\n",
       " 35,\n",
       " 6,\n",
       " 46,\n",
       " 12,\n",
       " 11,\n",
       " 4]"
      ]
     },
     "execution_count": 48,
     "metadata": {},
     "output_type": "execute_result"
    }
   ],
   "source": [
    "p2deck"
   ]
  },
  {
   "cell_type": "code",
   "execution_count": 49,
   "metadata": {},
   "outputs": [
    {
     "data": {
      "text/plain": [
       "32815"
      ]
     },
     "execution_count": 49,
     "metadata": {},
     "output_type": "execute_result"
    }
   ],
   "source": [
    "m = list(range(1,len(p2deck)+1))\n",
    "m.reverse()\n",
    "sum([v*d for v,d in zip(m,p2deck)])"
   ]
  },
  {
   "cell_type": "markdown",
   "metadata": {},
   "source": [
    "Before either player deals a card, if there was a previous round in this game that had exactly the same cards in the same order in the same players' decks, the game instantly ends in a win for player 1. Previous rounds from other games are not considered. (This prevents infinite games of Recursive Combat, which everyone agrees is a bad idea.)\n",
    "Otherwise, this round's cards must be in a new configuration; the players begin the round by each drawing the top card of their deck as normal.\n",
    "If both players have at least as many cards remaining in their deck as the value of the card they just drew, the winner of the round is determined by playing a new game of Recursive Combat (see below).\n",
    "Otherwise, at least one player must not have enough cards left in their deck to recurse; the winner of the round is the player with the higher-value card.\n"
   ]
  },
  {
   "cell_type": "code",
   "execution_count": 64,
   "metadata": {},
   "outputs": [],
   "source": [
    "p1deck = list(map(int,lines[0].replace('Player 1:\\n','').split('\\n')))\n",
    "p2deck = list(map(int,lines[1][:-1].replace('Player 2:\\n','').split('\\n')))\n",
    "\n"
   ]
  },
  {
   "cell_type": "code",
   "execution_count": 65,
   "metadata": {},
   "outputs": [],
   "source": [
    "def recursive(deckA, deckB):\n",
    "    seen = set()\n",
    "    while len(deckA)>0 and len(deckB):\n",
    "        tupleA, tupleB = tuple(deckA), tuple(deckB)\n",
    "        if (tupleA, tupleB) in seen:\n",
    "            #instant win for p1\n",
    "            return deckA, []\n",
    "        seen.add((tupleA, tupleB))\n",
    "\n",
    "        cardA, cardB = deckA.pop(0), deckB.pop(0)\n",
    "\n",
    "        if len(deckA) >= cardA and len(deckB) >= cardB:\n",
    "            subDeckA, subDeckB = recursive(deckA[:cardA], deckB[:cardB])\n",
    "            player1Wins = len(subDeckA) > 0\n",
    "        else:\n",
    "            player1Wins = cardA > cardB\n",
    "\n",
    "        if player1Wins:\n",
    "            deckA.append(cardA)\n",
    "            deckA.append(cardB)\n",
    "        else:\n",
    "            deckB.append(cardB)\n",
    "            deckB.append(cardA)\n",
    "\n",
    "    return deckA, deckB\n",
    "p1deck,p2deck = recursive(p1deck,p2deck)"
   ]
  },
  {
   "cell_type": "code",
   "execution_count": 66,
   "metadata": {},
   "outputs": [
    {
     "name": "stdout",
     "output_type": "stream",
     "text": [
      "p2 won\n"
     ]
    }
   ],
   "source": [
    "if len(p1deck)>len(p2deck):\n",
    "    print('p1 won')\n",
    "else:\n",
    "    print('p2 won')"
   ]
  },
  {
   "cell_type": "code",
   "execution_count": 67,
   "metadata": {},
   "outputs": [
    {
     "data": {
      "text/plain": [
       "30695"
      ]
     },
     "execution_count": 67,
     "metadata": {},
     "output_type": "execute_result"
    }
   ],
   "source": [
    "m = list(range(1,len(p2deck)+1))\n",
    "m.reverse()\n",
    "sum([v*d for v,d in zip(m,p2deck)])"
   ]
  },
  {
   "cell_type": "code",
   "execution_count": null,
   "metadata": {},
   "outputs": [],
   "source": []
  },
  {
   "cell_type": "code",
   "execution_count": null,
   "metadata": {},
   "outputs": [],
   "source": []
  }
 ],
 "metadata": {
  "kernelspec": {
   "display_name": "Python 3",
   "language": "python",
   "name": "python3"
  },
  "language_info": {
   "codemirror_mode": {
    "name": "ipython",
    "version": 3
   },
   "file_extension": ".py",
   "mimetype": "text/x-python",
   "name": "python",
   "nbconvert_exporter": "python",
   "pygments_lexer": "ipython3",
   "version": "3.8.3"
  }
 },
 "nbformat": 4,
 "nbformat_minor": 4
}
