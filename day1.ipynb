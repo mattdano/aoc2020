{
 "cells": [
  {
   "cell_type": "code",
   "execution_count": 1,
   "metadata": {},
   "outputs": [],
   "source": [
    "import pandas as pd"
   ]
  },
  {
   "cell_type": "code",
   "execution_count": 7,
   "metadata": {},
   "outputs": [],
   "source": [
    "df = pd.read_csv('./day1/input.txt',names=['val'])"
   ]
  },
  {
   "cell_type": "code",
   "execution_count": 11,
   "metadata": {},
   "outputs": [],
   "source": [
    "vals = df.val.tolist()"
   ]
  },
  {
   "cell_type": "code",
   "execution_count": 12,
   "metadata": {},
   "outputs": [
    {
     "name": "stdout",
     "output_type": "stream",
     "text": [
      "858 1162 996996\n",
      "1162 858 996996\n"
     ]
    }
   ],
   "source": [
    "for j in vals:\n",
    "    for i in vals:\n",
    "        if i+j == 2020:\n",
    "            print(i,j,i*j)"
   ]
  },
  {
   "cell_type": "code",
   "execution_count": 13,
   "metadata": {},
   "outputs": [
    {
     "name": "stdout",
     "output_type": "stream",
     "text": [
      "1719 19 282 9210402\n",
      "19 1719 282 9210402\n",
      "1719 282 19 9210402\n",
      "282 1719 19 9210402\n",
      "19 282 1719 9210402\n",
      "282 19 1719 9210402\n"
     ]
    }
   ],
   "source": [
    "for k in vals:\n",
    "    for j in vals:\n",
    "        for i in vals:\n",
    "            if i+j+k == 2020:\n",
    "                print(i,j,k,i*j*k)"
   ]
  },
  {
   "cell_type": "code",
   "execution_count": null,
   "metadata": {},
   "outputs": [],
   "source": []
  }
 ],
 "metadata": {
  "kernelspec": {
   "display_name": "Python 3",
   "language": "python",
   "name": "python3"
  },
  "language_info": {
   "codemirror_mode": {
    "name": "ipython",
    "version": 3
   },
   "file_extension": ".py",
   "mimetype": "text/x-python",
   "name": "python",
   "nbconvert_exporter": "python",
   "pygments_lexer": "ipython3",
   "version": "3.8.3"
  }
 },
 "nbformat": 4,
 "nbformat_minor": 4
}
