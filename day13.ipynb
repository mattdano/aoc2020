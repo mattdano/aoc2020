{
 "cells": [
  {
   "cell_type": "code",
   "execution_count": 1,
   "metadata": {},
   "outputs": [],
   "source": [
    "f = open('./day13/input.txt')\n",
    "lines = f.readlines()\n",
    "f.close()"
   ]
  },
  {
   "cell_type": "code",
   "execution_count": 2,
   "metadata": {},
   "outputs": [
    {
     "data": {
      "text/plain": [
       "['1009310\\n',\n",
       " '19,x,x,x,x,x,x,x,x,x,x,x,x,37,x,x,x,x,x,599,x,29,x,x,x,x,x,x,x,x,x,x,x,x,x,x,17,x,x,x,x,x,23,x,x,x,x,x,x,x,761,x,x,x,x,x,x,x,x,x,41,x,x,13\\n']"
      ]
     },
     "execution_count": 2,
     "metadata": {},
     "output_type": "execute_result"
    }
   ],
   "source": [
    "lines"
   ]
  },
  {
   "cell_type": "code",
   "execution_count": 3,
   "metadata": {},
   "outputs": [],
   "source": [
    "departat = 1009310"
   ]
  },
  {
   "cell_type": "code",
   "execution_count": 7,
   "metadata": {},
   "outputs": [
    {
     "name": "stdout",
     "output_type": "stream",
     "text": [
      "19\n",
      "37\n",
      "599\n",
      "29\n",
      "17\n",
      "23\n",
      "761\n",
      "41\n",
      "13\n"
     ]
    }
   ],
   "source": [
    "busid = []\n",
    "for id in lines[1].replace('\\n','').split(','):\n",
    "    if id!='x':\n",
    "        print(id)\n",
    "        busid.append(int(id))"
   ]
  },
  {
   "cell_type": "code",
   "execution_count": 8,
   "metadata": {},
   "outputs": [
    {
     "data": {
      "text/plain": [
       "[19, 37, 599, 29, 17, 23, 761, 41, 13]"
      ]
     },
     "execution_count": 8,
     "metadata": {},
     "output_type": "execute_result"
    }
   ],
   "source": [
    "busid"
   ]
  },
  {
   "cell_type": "code",
   "execution_count": 9,
   "metadata": {},
   "outputs": [
    {
     "name": "stdout",
     "output_type": "stream",
     "text": [
      "11\n",
      "24\n",
      "594\n",
      "23\n",
      "3\n",
      "1\n",
      "224\n",
      "13\n",
      "3\n"
     ]
    }
   ],
   "source": [
    "for b in busid:\n",
    "    print(departat%b)"
   ]
  },
  {
   "cell_type": "code",
   "execution_count": 27,
   "metadata": {},
   "outputs": [
    {
     "name": "stdout",
     "output_type": "stream",
     "text": [
      "19 1009318\n",
      "37 1009323\n",
      "599 1009315\n",
      "29 1009316\n",
      "5 599\n"
     ]
    },
    {
     "data": {
      "text/plain": [
       "2995"
      ]
     },
     "execution_count": 27,
     "metadata": {},
     "output_type": "execute_result"
    }
   ],
   "source": [
    "store = []\n",
    "busat = dict()\n",
    "for b in busid:\n",
    "    #print(939%b)\n",
    "    diff = round(departat/b)*b\n",
    "    if diff > departat:\n",
    "        print(b,diff)\n",
    "        busat[diff] = b\n",
    "        store.append(diff)\n",
    "        \n",
    "        \n",
    "print((min(store)-departat),busat[min(store)])\n",
    "(min(store)-departat)*busat[min(store)]"
   ]
  },
  {
   "cell_type": "code",
   "execution_count": null,
   "metadata": {},
   "outputs": [],
   "source": [
    "# next lowest common mutliple of b > t"
   ]
  },
  {
   "cell_type": "code",
   "execution_count": 17,
   "metadata": {},
   "outputs": [
    {
     "name": "stdout",
     "output_type": "stream",
     "text": [
      "944\n"
     ]
    }
   ],
   "source": [
    "for b in [7,13,59,31,19]:\n",
    "    #print(939%b)\n",
    "    diff = round(939/b)*b\n",
    "    if diff > 939:\n",
    "        print(diff)"
   ]
  },
  {
   "cell_type": "code",
   "execution_count": 14,
   "metadata": {},
   "outputs": [
    {
     "data": {
      "text/plain": [
       "944"
      ]
     },
     "execution_count": 14,
     "metadata": {},
     "output_type": "execute_result"
    }
   ],
   "source": [
    "round(939/59)*59"
   ]
  },
  {
   "cell_type": "markdown",
   "metadata": {},
   "source": [
    "part 2"
   ]
  },
  {
   "cell_type": "code",
   "execution_count": 28,
   "metadata": {},
   "outputs": [
    {
     "data": {
      "text/plain": [
       "[19, 37, 599, 29, 17, 23, 761, 41, 13]"
      ]
     },
     "execution_count": 28,
     "metadata": {},
     "output_type": "execute_result"
    }
   ],
   "source": [
    "busid"
   ]
  },
  {
   "cell_type": "code",
   "execution_count": null,
   "metadata": {},
   "outputs": [],
   "source": [
    "#when will the buses appear after each other in the order of their list pos. \n",
    "# sohuld be some maths trick here. lcm or somthing. can't brute force it\n",
    "# narrow this down to lcm(19,13)?"
   ]
  },
  {
   "cell_type": "code",
   "execution_count": 29,
   "metadata": {},
   "outputs": [
    {
     "data": {
      "text/plain": [
       "9"
      ]
     },
     "execution_count": 29,
     "metadata": {},
     "output_type": "execute_result"
    }
   ],
   "source": [
    "len(busid)"
   ]
  },
  {
   "cell_type": "code",
   "execution_count": 45,
   "metadata": {},
   "outputs": [],
   "source": [
    "lookup = dict()\n",
    "invlookup = dict()\n",
    "for t,c in enumerate(lines[1].replace('\\n','').split(',')):\n",
    "    if c != 'x':\n",
    "        lookup[t] = int(c)\n",
    "        invlookup[int(c)] = t"
   ]
  },
  {
   "cell_type": "code",
   "execution_count": 39,
   "metadata": {},
   "outputs": [
    {
     "data": {
      "text/plain": [
       "{0: 19, 13: 37, 19: 599, 21: 29, 36: 17, 42: 23, 50: 761, 60: 41, 63: 13}"
      ]
     },
     "execution_count": 39,
     "metadata": {},
     "output_type": "execute_result"
    }
   ],
   "source": [
    "lookup"
   ]
  },
  {
   "cell_type": "code",
   "execution_count": 46,
   "metadata": {},
   "outputs": [
    {
     "data": {
      "text/plain": [
       "{19: 0, 37: 13, 599: 19, 29: 21, 17: 36, 23: 42, 761: 50, 41: 60, 13: 63}"
      ]
     },
     "execution_count": 46,
     "metadata": {},
     "output_type": "execute_result"
    }
   ],
   "source": [
    "invlookup"
   ]
  },
  {
   "cell_type": "code",
   "execution_count": 49,
   "metadata": {},
   "outputs": [
    {
     "name": "stdout",
     "output_type": "stream",
     "text": [
      "3417\n"
     ]
    }
   ],
   "source": [
    "# brute force way, find t where:\n",
    "#t%19 ==0 \n",
    "#(t+13)%37==0\n",
    "\n",
    "#17,x,13,19\n",
    "testinvlookup = {17:0,13:2,19:3}\n",
    "\n",
    "t= 0\n",
    "while True:\n",
    "    flag = True\n",
    "    for k, v in testinvlookup.items():\n",
    "        if (t+v)%k != 0:\n",
    "            flag= False\n",
    "            break\n",
    "            \n",
    "    if flag:\n",
    "        print(t)\n",
    "        break\n",
    "    t+=1"
   ]
  },
  {
   "cell_type": "code",
   "execution_count": 55,
   "metadata": {},
   "outputs": [
    {
     "name": "stdout",
     "output_type": "stream",
     "text": [
      "1012171816131114\n"
     ]
    }
   ],
   "source": [
    "# apply the Chinese Remainder Theorem \n",
    "\n",
    "t= 0\n",
    "m=1\n",
    "for k, v in invlookup.items():\n",
    "    while True:\n",
    "        if (t+v)%k == 0:\n",
    "            break\n",
    "        t+=m\n",
    "    m *= k\n",
    "    \n",
    "print(t)"
   ]
  },
  {
   "cell_type": "code",
   "execution_count": 51,
   "metadata": {},
   "outputs": [
    {
     "data": {
      "text/plain": [
       "{19: 0, 37: 13, 599: 19, 29: 21, 17: 36, 23: 42, 761: 50, 41: 60, 13: 63}"
      ]
     },
     "execution_count": 51,
     "metadata": {},
     "output_type": "execute_result"
    }
   ],
   "source": [
    "invlookup"
   ]
  },
  {
   "cell_type": "code",
   "execution_count": 53,
   "metadata": {},
   "outputs": [
    {
     "data": {
      "text/plain": [
       "1936728611590279"
      ]
     },
     "execution_count": 53,
     "metadata": {},
     "output_type": "execute_result"
    }
   ],
   "source": [
    "m"
   ]
  },
  {
   "cell_type": "code",
   "execution_count": null,
   "metadata": {},
   "outputs": [],
   "source": []
  }
 ],
 "metadata": {
  "kernelspec": {
   "display_name": "Python 3",
   "language": "python",
   "name": "python3"
  },
  "language_info": {
   "codemirror_mode": {
    "name": "ipython",
    "version": 3
   },
   "file_extension": ".py",
   "mimetype": "text/x-python",
   "name": "python",
   "nbconvert_exporter": "python",
   "pygments_lexer": "ipython3",
   "version": "3.8.3"
  }
 },
 "nbformat": 4,
 "nbformat_minor": 4
}
