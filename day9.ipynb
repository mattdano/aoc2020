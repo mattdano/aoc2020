{
 "cells": [
  {
   "cell_type": "code",
   "execution_count": 5,
   "metadata": {},
   "outputs": [],
   "source": [
    "import numpy as np\n",
    "nums = np.genfromtxt('./day9/input.txt',dtype='int')"
   ]
  },
  {
   "cell_type": "code",
   "execution_count": 10,
   "metadata": {},
   "outputs": [
    {
     "name": "stdout",
     "output_type": "stream",
     "text": [
      "507622668\n"
     ]
    }
   ],
   "source": [
    "def allowed_nums(list_25):\n",
    "    products = set()\n",
    "    for i in list_25:\n",
    "        for j in list_25:\n",
    "            if i!=j:\n",
    "                product=i+j\n",
    "                products.add(product)\n",
    "    return products\n",
    "    \n",
    "for i in range(25,len(nums)-25):\n",
    "    products = allowed_nums(nums[i-25:i])\n",
    "    if nums[i] in products:\n",
    "        pass\n",
    "    else:\n",
    "        print(nums[i])\n",
    "        break"
   ]
  },
  {
   "cell_type": "code",
   "execution_count": 19,
   "metadata": {},
   "outputs": [
    {
     "name": "stdout",
     "output_type": "stream",
     "text": [
      "19457622 57230883\n",
      "76688505\n"
     ]
    }
   ],
   "source": [
    "def find_min_max():\n",
    "    for i in range(0,len(nums)):\n",
    "        for j in range(0,100):\n",
    "            if np.sum(nums[i:i+j]) == 507622668:\n",
    "                ran = nums[i:i+j]\n",
    "                print(min(ran),max(ran))\n",
    "                print(min(ran)+max(ran))\n",
    "                return\n",
    "\n",
    "find_min_max()"
   ]
  }
 ],
 "metadata": {
  "kernelspec": {
   "display_name": "Python 3",
   "language": "python",
   "name": "python3"
  },
  "language_info": {
   "codemirror_mode": {
    "name": "ipython",
    "version": 3
   },
   "file_extension": ".py",
   "mimetype": "text/x-python",
   "name": "python",
   "nbconvert_exporter": "python",
   "pygments_lexer": "ipython3",
   "version": "3.8.3"
  }
 },
 "nbformat": 4,
 "nbformat_minor": 4
}
