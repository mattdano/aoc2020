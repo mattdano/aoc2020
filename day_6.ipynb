{
 "cells": [
  {
   "cell_type": "code",
   "execution_count": 64,
   "metadata": {},
   "outputs": [],
   "source": [
    "f=open('./day6/input.txt','r')\n",
    "lines = f.readlines()\n",
    "f.close()"
   ]
  },
  {
   "cell_type": "code",
   "execution_count": 65,
   "metadata": {},
   "outputs": [],
   "source": [
    "#lines = ['abc','','a','b','c','','ab','ac','','a','a','a','a','','b','']\n"
   ]
  },
  {
   "cell_type": "code",
   "execution_count": 70,
   "metadata": {},
   "outputs": [],
   "source": [
    "from collections import Counter\n",
    "group_ans = Counter()\n",
    "group_size=0\n",
    "result = []\n",
    "uniques = set()\n",
    "all_q_list = 0\n",
    "for l,line in enumerate(lines):\n",
    "    line = line.replace('\\n','')\n",
    "    if line != '':\n",
    "        for c in line:\n",
    "            group_ans[c] += 1\n",
    "            uniques.add(c)\n",
    "        group_size+=1\n",
    "    if line == '':\n",
    "        result.append(len(uniques))\n",
    "        #print(len(uniques),group_size)\n",
    "        #print(group_ans)\n",
    "        #print(group_size)\n",
    "        #get the ones where everyone said yes, so counter[key] = group_size\n",
    "        all_q = 0\n",
    "        for k,v in group_ans.items():\n",
    "            if v == group_size:\n",
    "                all_q+=1\n",
    "                #print(k)\n",
    "                #print(line)\n",
    "        all_q_list+=all_q\n",
    "        \n",
    "        group_size=0\n",
    "        uniques = set()\n",
    "        group_ans=Counter()\n",
    "#print(len(uniques))\n",
    "\n",
    "#ugly bit for the last group\n",
    "result.append(len(uniques))\n",
    "\n",
    "all_q = 0\n",
    "for k,v in group_ans.items():\n",
    "    if v == group_size:\n",
    "        all_q+=1\n",
    "all_q_list+=all_q\n"
   ]
  },
  {
   "cell_type": "code",
   "execution_count": 68,
   "metadata": {},
   "outputs": [
    {
     "data": {
      "text/plain": [
       "3473"
      ]
     },
     "execution_count": 68,
     "metadata": {},
     "output_type": "execute_result"
    }
   ],
   "source": [
    "all_q_list"
   ]
  },
  {
   "cell_type": "code",
   "execution_count": 47,
   "metadata": {},
   "outputs": [
    {
     "data": {
      "text/plain": [
       "dict_items([('a', 2), ('f', 1), ('l', 1), ('h', 1), ('y', 1), ('u', 1), ('e', 1)])"
      ]
     },
     "execution_count": 47,
     "metadata": {},
     "output_type": "execute_result"
    }
   ],
   "source": [
    "group_ans.items()"
   ]
  },
  {
   "cell_type": "code",
   "execution_count": 43,
   "metadata": {},
   "outputs": [
    {
     "data": {
      "text/plain": [
       "6911"
      ]
     },
     "execution_count": 43,
     "metadata": {},
     "output_type": "execute_result"
    }
   ],
   "source": [
    "sum(result)"
   ]
  },
  {
   "cell_type": "code",
   "execution_count": null,
   "metadata": {},
   "outputs": [],
   "source": [
    "#3 + 3 + 3 + 1 + 1"
   ]
  },
  {
   "cell_type": "code",
   "execution_count": 15,
   "metadata": {},
   "outputs": [
    {
     "name": "stdout",
     "output_type": "stream",
     "text": [
      "3\n"
     ]
    },
    {
     "data": {
      "text/plain": [
       "Counter({'h': 1, 'x': 2, 'c': 1, 'q': 2})"
      ]
     },
     "execution_count": 15,
     "metadata": {},
     "output_type": "execute_result"
    }
   ],
   "source": [
    "print(group_size)\n",
    "group_ans"
   ]
  },
  {
   "cell_type": "code",
   "execution_count": 18,
   "metadata": {},
   "outputs": [
    {
     "data": {
      "text/plain": [
       "4"
      ]
     },
     "execution_count": 18,
     "metadata": {},
     "output_type": "execute_result"
    }
   ],
   "source": [
    "len(uniques)"
   ]
  },
  {
   "cell_type": "code",
   "execution_count": null,
   "metadata": {},
   "outputs": [],
   "source": [
    "#6904 too low"
   ]
  },
  {
   "cell_type": "code",
   "execution_count": 31,
   "metadata": {},
   "outputs": [
    {
     "data": {
      "text/plain": [
       "6904"
      ]
     },
     "execution_count": 31,
     "metadata": {},
     "output_type": "execute_result"
    }
   ],
   "source": []
  },
  {
   "cell_type": "code",
   "execution_count": null,
   "metadata": {},
   "outputs": [],
   "source": []
  }
 ],
 "metadata": {
  "kernelspec": {
   "display_name": "Python 3",
   "language": "python",
   "name": "python3"
  },
  "language_info": {
   "codemirror_mode": {
    "name": "ipython",
    "version": 3
   },
   "file_extension": ".py",
   "mimetype": "text/x-python",
   "name": "python",
   "nbconvert_exporter": "python",
   "pygments_lexer": "ipython3",
   "version": "3.8.3"
  }
 },
 "nbformat": 4,
 "nbformat_minor": 4
}
