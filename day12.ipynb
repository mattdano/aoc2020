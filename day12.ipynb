{
 "cells": [
  {
   "cell_type": "code",
   "execution_count": 51,
   "metadata": {},
   "outputs": [],
   "source": [
    "f = open('./day12/input.txt')\n",
    "lines = f.readlines()\n",
    "f.close()"
   ]
  },
  {
   "cell_type": "code",
   "execution_count": 19,
   "metadata": {},
   "outputs": [
    {
     "name": "stdout",
     "output_type": "stream",
     "text": [
      "-525 627\n",
      "1152\n"
     ]
    }
   ],
   "source": [
    "angle = 90\n",
    "x,y = 0,0\n",
    "for line in lines:\n",
    "    l =line.replace('\\n','')\n",
    "    cmd,dist = l[0],int(l[1:])\n",
    "    #print(cmd,dist)\n",
    "    if cmd == 'N':\n",
    "        y+= dist\n",
    "    elif cmd == 'S':\n",
    "        y-= dist\n",
    "    elif cmd == 'W':\n",
    "        x-=dist\n",
    "    elif cmd == 'E':\n",
    "        x+=dist\n",
    "    elif cmd == 'L':\n",
    "        angle -= dist\n",
    "    elif cmd == 'R':\n",
    "        angle += dist\n",
    "    elif cmd == 'F':\n",
    "        bearing = angle%360\n",
    "        if bearing == 90:\n",
    "            x+=dist\n",
    "        elif bearing == 270:\n",
    "            x-=dist\n",
    "        elif bearing == 0 :\n",
    "            y+= dist\n",
    "        elif bearing == 180:\n",
    "            y-= dist\n",
    "        \n",
    "print(x,y)\n",
    "print(abs(x)+abs(y))"
   ]
  },
  {
   "cell_type": "code",
   "execution_count": 47,
   "metadata": {},
   "outputs": [],
   "source": [
    "lines = ['F10','N3','F7','R90','L90','R90','F11']"
   ]
  },
  {
   "cell_type": "code",
   "execution_count": 52,
   "metadata": {},
   "outputs": [
    {
     "name": "stdout",
     "output_type": "stream",
     "text": [
      "20153 -38484\n",
      "58637\n"
     ]
    }
   ],
   "source": [
    "from math import cos, sin ,radians\n",
    "\n",
    "angle = 90\n",
    "x,y = 0,0\n",
    "waypoint = [10,1]\n",
    "for line in lines:\n",
    "    l =line.replace('\\n','')\n",
    "    cmd,dist = l[0],int(l[1:])\n",
    "    \n",
    "    if cmd == 'N':\n",
    "        waypoint[1]+= dist\n",
    "    elif cmd == 'S':\n",
    "        waypoint[1]-= dist\n",
    "    elif cmd == 'W':\n",
    "        waypoint[0]-=dist\n",
    "    elif cmd == 'E':\n",
    "        waypoint[0]+=dist\n",
    "    elif cmd == 'L':\n",
    "        # should be a vector rotation\n",
    "        # \n",
    "        theta = dist\n",
    "        np=[0,0]\n",
    "        np[0] = waypoint[0]*round(cos(radians(theta))) - waypoint[1]*round(sin(radians(theta)))\n",
    "        np[1] = waypoint[0]*round(sin(radians(theta))) + waypoint[1]*round(cos(radians(theta)))\n",
    "        waypoint = np\n",
    "    elif cmd == 'R':\n",
    "        theta = -dist\n",
    "        np=[0,0]\n",
    "        np[0] = waypoint[0]*round(cos(radians(theta))) - waypoint[1]*round(sin(radians(theta)))\n",
    "        np[1] = waypoint[0]*round(sin(radians(theta))) + waypoint[1]*round(cos(radians(theta)))\n",
    "        waypoint = np\n",
    "    elif cmd == 'F':\n",
    "        x = waypoint[0]*dist+x\n",
    "        y = waypoint[1]*dist+y\n",
    "    #print(cmd,dist,x,y,waypoint)\n",
    "print(x,y)\n",
    "print(abs(x)+abs(y))"
   ]
  },
  {
   "cell_type": "code",
   "execution_count": 7,
   "metadata": {},
   "outputs": [
    {
     "data": {
      "text/plain": [
       "270"
      ]
     },
     "execution_count": 7,
     "metadata": {},
     "output_type": "execute_result"
    }
   ],
   "source": [
    "-90 %360"
   ]
  },
  {
   "cell_type": "code",
   "execution_count": 36,
   "metadata": {},
   "outputs": [
    {
     "data": {
      "text/plain": [
       "0"
      ]
     },
     "execution_count": 36,
     "metadata": {},
     "output_type": "execute_result"
    }
   ],
   "source": [
    "from math import cos, sin , degrees, radians\n",
    "\n",
    "\n",
    "round(cos(radians(90)))"
   ]
  },
  {
   "cell_type": "code",
   "execution_count": 38,
   "metadata": {},
   "outputs": [
    {
     "data": {
      "text/plain": [
       "10"
      ]
     },
     "execution_count": 38,
     "metadata": {},
     "output_type": "execute_result"
    }
   ],
   "source": [
    "waypoint=[10,4]\n",
    "theta=90\n",
    "waypoint[0]*round(sin(radians(theta))) + waypoint[1]*round(cos(radians(theta)))"
   ]
  },
  {
   "cell_type": "code",
   "execution_count": null,
   "metadata": {},
   "outputs": [],
   "source": []
  }
 ],
 "metadata": {
  "kernelspec": {
   "display_name": "Python 3",
   "language": "python",
   "name": "python3"
  },
  "language_info": {
   "codemirror_mode": {
    "name": "ipython",
    "version": 3
   },
   "file_extension": ".py",
   "mimetype": "text/x-python",
   "name": "python",
   "nbconvert_exporter": "python",
   "pygments_lexer": "ipython3",
   "version": "3.8.3"
  }
 },
 "nbformat": 4,
 "nbformat_minor": 4
}
