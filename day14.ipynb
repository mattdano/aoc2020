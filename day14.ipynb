{
 "cells": [
  {
   "cell_type": "code",
   "execution_count": 139,
   "metadata": {},
   "outputs": [],
   "source": [
    "f = open('./day14/input.txt')\n",
    "lines = f.readlines()\n",
    "f.close()"
   ]
  },
  {
   "cell_type": "code",
   "execution_count": 2,
   "metadata": {},
   "outputs": [
    {
     "data": {
      "text/plain": [
       "['mask = X011X00011011110001X01010011X0X0X010\\n',\n",
       " 'mem[35176] = 9976167\\n',\n",
       " 'mem[39031] = 108553\\n',\n",
       " 'mem[59131] = 6439623\\n',\n",
       " 'mem[63499] = 293387351\\n',\n",
       " 'mem[53936] = 331755\\n',\n",
       " 'mem[56389] = 2017477\\n',\n",
       " 'mask = 101110001111X1X0000011X11X1X01X00001\\n',\n",
       " 'mem[115] = 642\\n',\n",
       " 'mem[35236] = 21608171\\n',\n",
       " 'mem[40102] = 7571\\n',\n",
       " 'mask = 0010100X10X01X00010XX0001X1X0X011001\\n',\n",
       " 'mem[45336] = 5952410\\n',\n",
       " 'mem[22732] = 97085\\n',\n",
       " 'mem[13568] = 32642580\\n',\n",
       " 'mem[11278] = 991213086\\n',\n",
       " 'mem[13552] = 1655255\\n',\n",
       " 'mask = 01X0101XX110110101010X1001X0010110X1\\n',\n",
       " 'mem[42192] = 4234239\\n',\n",
       " 'mem[31473] = 17136584\\n',\n",
       " 'mem[29723] = 93520\\n',\n",
       " 'mem[29158] = 116136736\\n',\n",
       " 'mask = 0001100X0X1X110X1X00010X0100010X0100\\n',\n",
       " 'mem[39435] = 357608510\\n',\n",
       " 'mem[14973] = 532464795\\n',\n",
       " 'mem[2752] = 64188\\n',\n",
       " 'mem[61697] = 11187418\\n',\n",
       " 'mem[18575] = 199186\\n',\n",
       " 'mem[47723] = 426934\\n',\n",
       " 'mem[27423] = 1974772\\n',\n",
       " 'mask = 000110000010X10X0X001100X01001X0X1X0\\n',\n",
       " 'mem[44107] = 25101\\n',\n",
       " 'mem[44194] = 21551\\n',\n",
       " 'mem[12030] = 169\\n',\n",
       " 'mem[6630] = 12436270\\n',\n",
       " 'mask = 0X11XX0111111111110010101110100XX000\\n',\n",
       " 'mem[449] = 7072331\\n',\n",
       " 'mem[42523] = 267359150\\n',\n",
       " 'mem[19455] = 24135\\n',\n",
       " 'mem[39633] = 268298\\n',\n",
       " 'mask = 0001100101111X01X0X01101X1001001X000\\n',\n",
       " 'mem[4608] = 14005\\n',\n",
       " 'mem[10241] = 782600\\n',\n",
       " 'mem[54738] = 209648820\\n',\n",
       " 'mask = 101X100011100X00X10111010X00010X01X0\\n',\n",
       " 'mem[42500] = 58188815\\n',\n",
       " 'mem[11694] = 11887\\n',\n",
       " 'mem[39816] = 128889468\\n',\n",
       " 'mem[37274] = 5127\\n',\n",
       " 'mem[17385] = 17378063\\n',\n",
       " 'mask = 0111110X0X0011X1010X1X110101X1XX0001\\n',\n",
       " 'mem[6801] = 243108\\n',\n",
       " 'mem[48960] = 4760103\\n',\n",
       " 'mem[22732] = 523377\\n',\n",
       " 'mask = 00011000001X1X1010000X01110X00X0X001\\n',\n",
       " 'mem[4608] = 1170\\n',\n",
       " 'mem[30523] = 52724553\\n',\n",
       " 'mem[64163] = 19673\\n',\n",
       " 'mem[11679] = 12049\\n',\n",
       " 'mem[338] = 18404\\n',\n",
       " 'mem[36800] = 1073142\\n',\n",
       " 'mask = XX101000101010000101001000100X1100X0\\n',\n",
       " 'mem[25041] = 33614936\\n',\n",
       " 'mem[19637] = 12910\\n',\n",
       " 'mem[48777] = 312026612\\n',\n",
       " 'mem[3614] = 42590\\n',\n",
       " 'mask = 00X0000000X0110001001X11X10001000001\\n',\n",
       " 'mem[13162] = 62756298\\n',\n",
       " 'mem[14130] = 79824\\n',\n",
       " 'mask = 10X100X01X1X1X10000X0X000111X10X0101\\n',\n",
       " 'mem[54039] = 155170303\\n',\n",
       " 'mem[47391] = 11186\\n',\n",
       " 'mem[16757] = 64889909\\n',\n",
       " 'mem[19198] = 34026906\\n',\n",
       " 'mask = 00011X0X01XX1101X000X10110XX0000000X\\n',\n",
       " 'mem[14232] = 18518\\n',\n",
       " 'mem[4532] = 1320230\\n',\n",
       " 'mem[40264] = 68063\\n',\n",
       " 'mem[29145] = 147910\\n',\n",
       " 'mask = 011X1X0X011011000000110X0110101X0X00\\n',\n",
       " 'mem[13568] = 975118\\n',\n",
       " 'mem[2216] = 425464\\n',\n",
       " 'mem[59072] = 777680332\\n',\n",
       " 'mask = 0X0010X0X110110X010X111XX100X0001000\\n',\n",
       " 'mem[8637] = 3036011\\n',\n",
       " 'mem[11345] = 28691019\\n',\n",
       " 'mem[28520] = 801207\\n',\n",
       " 'mem[63730] = 666\\n',\n",
       " 'mask = 0001110010XX11X1000000010110X0100001\\n',\n",
       " 'mem[4651] = 9924\\n',\n",
       " 'mem[61289] = 2749110\\n',\n",
       " 'mem[57251] = 19712904\\n',\n",
       " 'mask = X0X1101001100X10X10X11001X0101011010\\n',\n",
       " 'mem[24158] = 8884236\\n',\n",
       " 'mem[22515] = 1409\\n',\n",
       " 'mem[22964] = 183923110\\n',\n",
       " 'mem[33878] = 885936\\n',\n",
       " 'mem[44538] = 874947\\n',\n",
       " 'mem[5990] = 363\\n',\n",
       " 'mask = 0X11X101011XX111011010X1X0X01101X001\\n',\n",
       " 'mem[27091] = 1044\\n',\n",
       " 'mem[57617] = 3722045\\n',\n",
       " 'mask = 0XX11X101110010X010X101XX0X111010X11\\n',\n",
       " 'mem[26059] = 13841479\\n',\n",
       " 'mem[55461] = 4252699\\n',\n",
       " 'mem[56882] = 25286\\n',\n",
       " 'mem[55972] = 1008168\\n',\n",
       " 'mem[60550] = 1965604\\n',\n",
       " 'mem[43412] = 861720\\n',\n",
       " 'mask = 1X11000XX1011X100010101X0XX10X1011X0\\n',\n",
       " 'mem[54042] = 883549632\\n',\n",
       " 'mem[65377] = 94416\\n',\n",
       " 'mem[33534] = 13467\\n',\n",
       " 'mask = 00111000011111110X01X1XX100101011X11\\n',\n",
       " 'mem[21993] = 74\\n',\n",
       " 'mem[49628] = 5558\\n',\n",
       " 'mem[61750] = 475383817\\n',\n",
       " 'mem[36392] = 32630\\n',\n",
       " 'mask = 111X10001X1X01001X0110X0001010010100\\n',\n",
       " 'mem[52078] = 214690759\\n',\n",
       " 'mem[62049] = 235777\\n',\n",
       " 'mem[55972] = 162504\\n',\n",
       " 'mem[28257] = 1771\\n',\n",
       " 'mem[49729] = 23532\\n',\n",
       " 'mem[3769] = 475930259\\n',\n",
       " 'mem[50832] = 7539691\\n',\n",
       " 'mask = 01011X01010011111X00111111X111000X01\\n',\n",
       " 'mem[47391] = 294107389\\n',\n",
       " 'mem[41571] = 33636200\\n',\n",
       " 'mem[34344] = 4779864\\n',\n",
       " 'mem[5210] = 14455055\\n',\n",
       " 'mem[55569] = 294086\\n',\n",
       " 'mem[14810] = 19093\\n',\n",
       " 'mask = 011110101110X10X01XX11110X1100110010\\n',\n",
       " 'mem[43678] = 103962743\\n',\n",
       " 'mem[46649] = 174\\n',\n",
       " 'mem[17417] = 51516531\\n',\n",
       " 'mem[44279] = 13699\\n',\n",
       " 'mem[29723] = 382196268\\n',\n",
       " 'mask = 0X1X10X0X11011000X00111100X1001X0X00\\n',\n",
       " 'mem[58181] = 7631\\n',\n",
       " 'mem[54660] = 18\\n',\n",
       " 'mem[62624] = 65676864\\n',\n",
       " 'mem[7637] = 682188755\\n',\n",
       " 'mem[30523] = 54181\\n',\n",
       " 'mask = X001100001X00101X000010101011010100X\\n',\n",
       " 'mem[62308] = 3258008\\n',\n",
       " 'mem[54316] = 546\\n',\n",
       " 'mem[35020] = 84582\\n',\n",
       " 'mem[63858] = 243188165\\n',\n",
       " 'mem[20003] = 1739942\\n',\n",
       " 'mask = 0XX01X10X1101100X1X010111X0110XX0001\\n',\n",
       " 'mem[62495] = 31369385\\n',\n",
       " 'mem[30172] = 50943552\\n',\n",
       " 'mem[43610] = 56640\\n',\n",
       " 'mem[25863] = 5589\\n',\n",
       " 'mask = XX1X100001100100000100X1110010111000\\n',\n",
       " 'mem[15271] = 1383\\n',\n",
       " 'mem[30514] = 517505\\n',\n",
       " 'mem[53271] = 1003887\\n',\n",
       " 'mem[30597] = 198292\\n',\n",
       " 'mem[60624] = 498352568\\n',\n",
       " 'mem[41024] = 5218437\\n',\n",
       " 'mask = 001XX00001110100X0011100X0000000011X\\n',\n",
       " 'mem[21892] = 29032569\\n',\n",
       " 'mem[48960] = 7348953\\n',\n",
       " 'mem[34838] = 5416170\\n',\n",
       " 'mem[54039] = 3631\\n',\n",
       " 'mem[3062] = 651155\\n',\n",
       " 'mask = 101100001X11X11X000X010X11010X000110\\n',\n",
       " 'mem[45244] = 490449\\n',\n",
       " 'mem[2123] = 368294\\n',\n",
       " 'mem[45758] = 1822\\n',\n",
       " 'mem[40631] = 245598209\\n',\n",
       " 'mem[36989] = 3830384\\n',\n",
       " 'mem[6227] = 5405426\\n',\n",
       " 'mem[6315] = 11116\\n',\n",
       " 'mask = X0011000X0X01101100XXX11111001100001\\n',\n",
       " 'mem[51307] = 11819100\\n',\n",
       " 'mem[10561] = 605909523\\n',\n",
       " 'mem[27387] = 31698\\n',\n",
       " 'mem[25513] = 458925821\\n',\n",
       " 'mem[37018] = 522164\\n',\n",
       " 'mem[18187] = 13328\\n',\n",
       " 'mask = 0X0X10X00110X1000X000X1X1100000100X0\\n',\n",
       " 'mem[64601] = 63\\n',\n",
       " 'mem[1569] = 42324\\n',\n",
       " 'mem[11413] = 640\\n',\n",
       " 'mask = 00X110000X1011XXX000000X11000000XX01\\n',\n",
       " 'mem[7713] = 14341\\n',\n",
       " 'mem[11413] = 4062857\\n',\n",
       " 'mem[60014] = 2945180\\n',\n",
       " 'mask = 011X1010111011000X00X111X0110110000X\\n',\n",
       " 'mem[7637] = 7272948\\n',\n",
       " 'mem[53569] = 499905\\n',\n",
       " 'mem[16193] = 26937\\n',\n",
       " 'mem[26059] = 54033\\n',\n",
       " 'mask = 0XXX1100X01XX101010001001010XX001111\\n',\n",
       " 'mem[45815] = 2006054\\n',\n",
       " 'mem[39698] = 7265\\n',\n",
       " 'mem[45186] = 596544\\n',\n",
       " 'mem[32965] = 2713\\n',\n",
       " 'mem[28434] = 980517\\n',\n",
       " 'mem[45787] = 558823\\n',\n",
       " 'mem[61407] = 448340333\\n',\n",
       " 'mask = X0101000011011000X0X001111011X100101\\n',\n",
       " 'mem[65392] = 7496387\\n',\n",
       " 'mem[3310] = 10949\\n',\n",
       " 'mem[54021] = 1018\\n',\n",
       " 'mem[39182] = 1015\\n',\n",
       " 'mask = 00011X00XX10110X0X00000XX000000010XX\\n',\n",
       " 'mem[29258] = 32355\\n',\n",
       " 'mem[21927] = 415005978\\n',\n",
       " 'mem[7720] = 400318\\n',\n",
       " 'mask = XX101X00001011X010011110100001X10011\\n',\n",
       " 'mem[19357] = 698\\n',\n",
       " 'mem[39816] = 38859710\\n',\n",
       " 'mem[33161] = 721879\\n',\n",
       " 'mem[51029] = 1020\\n',\n",
       " 'mem[63289] = 63403541\\n',\n",
       " 'mem[44874] = 130864184\\n',\n",
       " 'mem[22915] = 165664389\\n',\n",
       " 'mask = 001110000111X1XX0X0X1XX1100X010X1110\\n',\n",
       " 'mem[42040] = 243356019\\n',\n",
       " 'mem[37748] = 7353\\n',\n",
       " 'mem[62516] = 326\\n',\n",
       " 'mem[16620] = 361\\n',\n",
       " 'mem[64585] = 46439\\n',\n",
       " 'mem[28563] = 1986\\n',\n",
       " 'mem[39009] = 628217\\n',\n",
       " 'mask = 01X11X01010011X100101X010000101101X1\\n',\n",
       " 'mem[24198] = 1466\\n',\n",
       " 'mem[15002] = 634696\\n',\n",
       " 'mem[26199] = 119807597\\n',\n",
       " 'mem[23206] = 655878\\n',\n",
       " 'mem[8193] = 4004526\\n',\n",
       " 'mem[41317] = 2850662\\n',\n",
       " 'mask = 1110X0001110X10001101000X100000000X0\\n',\n",
       " 'mem[44279] = 36824\\n',\n",
       " 'mem[26815] = 6522802\\n',\n",
       " 'mem[14909] = 17326\\n',\n",
       " 'mask = 0001110001X0110110XX00011X10X1001000\\n',\n",
       " 'mem[1962] = 1442842\\n',\n",
       " 'mem[57522] = 3608\\n',\n",
       " 'mem[63355] = 1650944\\n',\n",
       " 'mem[56904] = 2521022\\n',\n",
       " 'mask = XXX111XX1110X10101001X01001111000XX1\\n',\n",
       " 'mem[56039] = 13855\\n',\n",
       " 'mem[48222] = 13842\\n',\n",
       " 'mem[57251] = 110043295\\n',\n",
       " 'mem[896] = 7181\\n',\n",
       " 'mem[64594] = 3483\\n',\n",
       " 'mask = 00011X000X1011001000011111XX00100010\\n',\n",
       " 'mem[41571] = 63539\\n',\n",
       " 'mem[39714] = 1004729334\\n',\n",
       " 'mem[33630] = 31829390\\n',\n",
       " 'mask = 001010011010X1001XX00000X1000110011X\\n',\n",
       " 'mem[12774] = 219393591\\n',\n",
       " 'mem[39801] = 6063\\n',\n",
       " 'mem[17417] = 188732\\n',\n",
       " 'mem[33878] = 117640\\n',\n",
       " 'mem[9589] = 349\\n',\n",
       " 'mask = 1011X00011X11X1000X011100X0111000X01\\n',\n",
       " 'mem[50450] = 627875\\n',\n",
       " 'mem[64553] = 99\\n',\n",
       " 'mem[64585] = 1273168\\n',\n",
       " 'mem[6757] = 3017\\n',\n",
       " 'mem[14356] = 5008\\n',\n",
       " 'mem[29258] = 1655\\n',\n",
       " 'mem[11413] = 60359360\\n',\n",
       " 'mask = 0010X0X0XX101100010X001111X1X1110001\\n',\n",
       " 'mem[37311] = 436389854\\n',\n",
       " 'mem[62848] = 350102481\\n',\n",
       " 'mem[54021] = 3272\\n',\n",
       " 'mem[13433] = 2181\\n',\n",
       " 'mem[32818] = 1561170\\n',\n",
       " 'mem[61100] = 144227\\n',\n",
       " 'mask = 0111110X011X11X10100111XX00XX101XX01\\n',\n",
       " 'mem[51399] = 1972\\n',\n",
       " 'mem[5042] = 926644\\n',\n",
       " 'mem[11375] = 259250573\\n',\n",
       " 'mem[41416] = 936\\n',\n",
       " 'mem[12700] = 246505\\n',\n",
       " 'mem[57540] = 2923524\\n',\n",
       " 'mem[8321] = 70934934\\n',\n",
       " 'mask = 0X11X0000110010000001001XX0000110X10\\n',\n",
       " 'mem[21546] = 912416315\\n',\n",
       " 'mem[29145] = 99559\\n',\n",
       " 'mem[16528] = 29459665\\n',\n",
       " 'mem[13846] = 6110601\\n',\n",
       " 'mem[6104] = 13330\\n',\n",
       " 'mem[62308] = 31534\\n',\n",
       " 'mem[64601] = 494\\n',\n",
       " 'mask = 0001X1X101101X0X1X00X101101X1011010X\\n',\n",
       " 'mem[35524] = 261536\\n',\n",
       " 'mem[39801] = 310749971\\n',\n",
       " 'mem[46522] = 1236\\n',\n",
       " 'mem[4129] = 1844\\n',\n",
       " 'mem[6315] = 6569\\n',\n",
       " 'mem[32886] = 168\\n',\n",
       " 'mem[42248] = 11892434\\n',\n",
       " 'mask = 1XX11001110X000010000X00000X00100001\\n',\n",
       " 'mem[34337] = 3847\\n',\n",
       " 'mem[8390] = 8155520\\n',\n",
       " 'mem[62768] = 5218234\\n',\n",
       " 'mem[29841] = 249705\\n',\n",
       " 'mask = 01011101X10X1111000011X1101XX1110101\\n',\n",
       " 'mem[40491] = 11567\\n',\n",
       " 'mem[29057] = 5710533\\n',\n",
       " 'mem[7221] = 1098\\n',\n",
       " 'mem[57270] = 997670442\\n',\n",
       " 'mask = 001010X100101X00X00001XX01X000011010\\n',\n",
       " 'mem[54373] = 3875\\n',\n",
       " 'mem[41275] = 111847\\n',\n",
       " 'mem[15151] = 45571\\n',\n",
       " 'mem[22776] = 8162199\\n',\n",
       " 'mask = X01110X0111XXX0000001X11111110000X01\\n',\n",
       " 'mem[106] = 5774051\\n',\n",
       " 'mem[41573] = 7822355\\n',\n",
       " 'mask = 001110X0011X01X00X0X110X0X0000010X1X\\n',\n",
       " 'mem[39101] = 17209596\\n',\n",
       " 'mem[57877] = 216131041\\n',\n",
       " 'mem[63978] = 643398\\n',\n",
       " 'mem[10351] = 15285\\n',\n",
       " 'mem[35863] = 23302872\\n',\n",
       " 'mask = 001010X011101100010001X0100101X0000X\\n',\n",
       " 'mem[20499] = 211562966\\n',\n",
       " 'mem[46546] = 1635565\\n',\n",
       " 'mem[45815] = 18600505\\n',\n",
       " 'mem[65441] = 25793\\n',\n",
       " 'mem[48867] = 4021120\\n',\n",
       " 'mask = X11010001110X10001X011X001001X1100XX\\n',\n",
       " 'mem[49457] = 476570\\n',\n",
       " 'mem[26669] = 4266538\\n',\n",
       " 'mem[50839] = 9507231\\n',\n",
       " 'mem[54766] = 1208643\\n',\n",
       " 'mem[49279] = 2607329\\n',\n",
       " 'mem[20912] = 1119428\\n',\n",
       " 'mask = 00X111X011X0110100000001001001001X10\\n',\n",
       " 'mem[3981] = 28411\\n',\n",
       " 'mem[1880] = 357278\\n',\n",
       " 'mem[31243] = 162\\n',\n",
       " 'mask = 00011100X1X0X101000X000110XXX1011000\\n',\n",
       " 'mem[26881] = 21252\\n',\n",
       " 'mem[10018] = 6965635\\n',\n",
       " 'mem[47777] = 33385526\\n',\n",
       " 'mem[46651] = 214034\\n',\n",
       " 'mem[42585] = 40702649\\n',\n",
       " 'mem[55569] = 20351\\n',\n",
       " 'mem[23923] = 253114336\\n',\n",
       " 'mask = 00XX100000101100X00X1110111XX00101X0\\n',\n",
       " 'mem[29597] = 1149\\n',\n",
       " 'mem[21886] = 38689097\\n',\n",
       " 'mem[37141] = 700\\n',\n",
       " 'mem[19653] = 273424\\n',\n",
       " 'mem[50472] = 7691440\\n',\n",
       " 'mask = XX111X10X111X10001X001X1X1011011X011\\n',\n",
       " 'mem[8566] = 25451836\\n',\n",
       " 'mem[39771] = 4721485\\n',\n",
       " 'mem[44687] = 6594426\\n',\n",
       " 'mem[42570] = 361\\n',\n",
       " 'mem[14627] = 64772285\\n',\n",
       " 'mem[48337] = 1264\\n',\n",
       " 'mask = X010X0011101001010X0111X000111X000XX\\n',\n",
       " 'mem[54859] = 36075224\\n',\n",
       " 'mem[61289] = 1247\\n',\n",
       " 'mem[31793] = 19842184\\n',\n",
       " 'mem[15612] = 404768\\n',\n",
       " 'mask = 10110X01110X1X1000100X1X00100011110X\\n',\n",
       " 'mem[41092] = 29758\\n',\n",
       " 'mem[58134] = 1780\\n',\n",
       " 'mem[30647] = 865419\\n',\n",
       " 'mem[46184] = 133\\n',\n",
       " 'mask = 0XX1110101X011X1XXX00011X0X011010001\\n',\n",
       " 'mem[52020] = 14383756\\n',\n",
       " 'mem[64473] = 2371708\\n',\n",
       " 'mem[53688] = 3645018\\n',\n",
       " 'mem[62848] = 112067628\\n',\n",
       " 'mem[25377] = 5361\\n',\n",
       " 'mem[40061] = 584\\n',\n",
       " 'mem[57896] = 4809281\\n',\n",
       " 'mask = 0001X1X10X1X1X001X00001X1X0000100100\\n',\n",
       " 'mem[50150] = 1695\\n',\n",
       " 'mem[58420] = 95104341\\n',\n",
       " 'mem[60817] = 4009428\\n',\n",
       " 'mem[29926] = 1556\\n',\n",
       " 'mem[28188] = 165994572\\n',\n",
       " 'mem[44315] = 2054\\n',\n",
       " 'mask = 0111X0001110X100X000X11111011110000X\\n',\n",
       " 'mem[40090] = 53578\\n',\n",
       " 'mem[61376] = 125798\\n',\n",
       " 'mem[59920] = 2637064\\n',\n",
       " 'mem[31522] = 223908\\n',\n",
       " 'mem[41317] = 11020\\n',\n",
       " 'mem[64504] = 60087919\\n',\n",
       " 'mem[29083] = 165056\\n',\n",
       " 'mask = 00X110000110X10X000000X1X0000010X00X\\n',\n",
       " 'mem[63634] = 156131519\\n',\n",
       " 'mem[63499] = 37794\\n',\n",
       " 'mem[54660] = 213384\\n',\n",
       " 'mem[19357] = 291569507\\n',\n",
       " 'mem[11793] = 44425775\\n',\n",
       " 'mem[1569] = 1499\\n',\n",
       " 'mask = 0111X1XX1110XX0100001011X010X0111010\\n',\n",
       " 'mem[17747] = 687783\\n',\n",
       " 'mem[47527] = 43313\\n',\n",
       " 'mem[46385] = 30062259\\n',\n",
       " 'mem[39435] = 6225\\n',\n",
       " 'mask = 00111110111001X0X1XX1X0X10X11X010011\\n',\n",
       " 'mem[60773] = 4068534\\n',\n",
       " 'mem[46727] = 88487\\n',\n",
       " 'mem[45335] = 2899\\n',\n",
       " 'mem[55714] = 3991\\n',\n",
       " 'mask = 01X11X0010111111X11X11X0100001010001\\n',\n",
       " 'mem[50543] = 70\\n',\n",
       " 'mem[28563] = 17930\\n',\n",
       " 'mem[14417] = 107070185\\n',\n",
       " 'mem[19810] = 530758\\n',\n",
       " 'mem[26195] = 352915721\\n',\n",
       " 'mem[23620] = 541394\\n',\n",
       " 'mem[51609] = 68738\\n',\n",
       " 'mask = 1010100X01X01X0000X01X1X11001XX01101\\n',\n",
       " 'mem[30706] = 33489\\n',\n",
       " 'mem[3614] = 97141\\n',\n",
       " 'mem[47530] = 61588428\\n',\n",
       " 'mem[54451] = 37\\n',\n",
       " 'mem[17417] = 3467253\\n',\n",
       " 'mask = 0XX0X10X00X0XX001X0010100X1000100101\\n',\n",
       " 'mem[61965] = 25976999\\n',\n",
       " 'mem[52290] = 83693474\\n',\n",
       " 'mem[10104] = 172902064\\n',\n",
       " 'mask = 10101001X100110000X0X111110X11111X10\\n',\n",
       " 'mem[51399] = 42079173\\n',\n",
       " 'mem[10104] = 60\\n',\n",
       " 'mem[42192] = 761948\\n',\n",
       " 'mask = 01111X1X111001010XX01111X1111101X011\\n',\n",
       " 'mem[15002] = 5761\\n',\n",
       " 'mem[57522] = 781049282\\n',\n",
       " 'mem[58771] = 36590\\n',\n",
       " 'mem[50845] = 895780041\\n',\n",
       " 'mask = 1110100X1110X10001X011X0100X1X11XX0X\\n',\n",
       " 'mem[28451] = 29180808\\n',\n",
       " 'mem[49154] = 106361\\n',\n",
       " 'mem[19472] = 962416\\n',\n",
       " 'mask = X001X1XX011010001X00X1111010X011100X\\n',\n",
       " 'mem[472] = 20077\\n',\n",
       " 'mem[44685] = 88446\\n',\n",
       " 'mem[46048] = 3015039\\n',\n",
       " 'mem[61697] = 1680\\n',\n",
       " 'mem[65441] = 420953\\n',\n",
       " 'mask = 010111X0001XX100010001101X0000001011\\n',\n",
       " 'mem[7230] = 105401132\\n',\n",
       " 'mem[37903] = 49164\\n',\n",
       " 'mem[2407] = 15927\\n',\n",
       " 'mem[62905] = 2466\\n',\n",
       " 'mem[6996] = 275026478\\n',\n",
       " 'mask = 0010X0X0111011000X00101X010000101100\\n',\n",
       " 'mem[20747] = 130064892\\n',\n",
       " 'mem[227] = 14848571\\n',\n",
       " 'mask = 1X101X0011100100X10X11000XX00XX0010X\\n',\n",
       " 'mem[18075] = 4105\\n',\n",
       " 'mem[7692] = 10369\\n',\n",
       " 'mem[34480] = 70016\\n',\n",
       " 'mem[54747] = 178664159\\n',\n",
       " 'mem[31770] = 4308718\\n',\n",
       " 'mem[25940] = 286972\\n',\n",
       " 'mask = 1X1X100011110X10X000X00XX01001000001\\n',\n",
       " 'mem[18927] = 433001153\\n',\n",
       " 'mem[56004] = 381\\n',\n",
       " 'mem[7713] = 560209289\\n',\n",
       " 'mem[55758] = 1791814\\n',\n",
       " 'mem[12953] = 174435\\n',\n",
       " 'mem[40556] = 1415\\n',\n",
       " 'mask = X01X101001110XX00001000X10000X010000\\n',\n",
       " 'mem[62126] = 15628\\n',\n",
       " 'mem[53714] = 392410\\n',\n",
       " 'mem[49154] = 13065\\n',\n",
       " 'mask = 001X1000X0X010XX01X0X000X1000000X100\\n',\n",
       " 'mem[8723] = 64433454\\n',\n",
       " 'mem[6757] = 1682978\\n',\n",
       " 'mem[60483] = 13735\\n',\n",
       " 'mask = 01011X01011XX1111X001X110000X01100XX\\n',\n",
       " 'mem[64013] = 806538\\n',\n",
       " 'mem[51273] = 32346\\n',\n",
       " 'mask = 00X11101011011010110101X0011110XX001\\n',\n",
       " 'mem[55121] = 416007913\\n',\n",
       " 'mem[44077] = 5865583\\n',\n",
       " 'mem[64585] = 323728\\n',\n",
       " 'mask = 101X100X11X100X01000100X01000X100001\\n',\n",
       " 'mem[60817] = 42192\\n',\n",
       " 'mem[6757] = 4925545\\n',\n",
       " 'mem[33281] = 6862960\\n',\n",
       " 'mem[21115] = 11608810\\n',\n",
       " 'mask = XXX0X11000101X010100X010101X10001000\\n',\n",
       " 'mem[42505] = 6795\\n',\n",
       " 'mem[27245] = 671587340\\n',\n",
       " 'mem[43412] = 8741321\\n',\n",
       " 'mem[2793] = 1114109\\n',\n",
       " 'mem[34194] = 2767551\\n',\n",
       " 'mask = 0X111X0001111101010010001001XX1X1110\\n',\n",
       " 'mem[21794] = 1041902\\n',\n",
       " 'mem[22992] = 3666\\n',\n",
       " 'mem[63730] = 46469539\\n',\n",
       " 'mask = 000110X10X001101X00X011110X011010001\\n',\n",
       " 'mem[6617] = 22675825\\n',\n",
       " 'mem[9131] = 24859225\\n',\n",
       " 'mask = 001X1X0XX010X10010001X0001000010XX10\\n',\n",
       " 'mem[28267] = 491581202\\n',\n",
       " 'mem[7622] = 154622\\n',\n",
       " 'mem[49279] = 1164052\\n',\n",
       " 'mem[6361] = 62173\\n',\n",
       " 'mem[29823] = 6599915\\n',\n",
       " 'mask = 01X0XX1X0X10110101001010101XX11X1000\\n',\n",
       " 'mem[50472] = 5878\\n',\n",
       " 'mem[3981] = 896\\n',\n",
       " 'mem[39714] = 74\\n',\n",
       " 'mem[6898] = 1993\\n',\n",
       " 'mem[8193] = 487\\n',\n",
       " 'mask = 0001X100111011X000000110X00X01000000\\n',\n",
       " 'mem[25162] = 323406673\\n',\n",
       " 'mem[43610] = 647412\\n',\n",
       " 'mem[54042] = 811029198\\n',\n",
       " 'mem[13461] = 33008731\\n',\n",
       " 'mem[17432] = 766541\\n',\n",
       " 'mem[45290] = 167819285\\n',\n",
       " 'mask = 00110X000110010000XXX111011101010010\\n',\n",
       " 'mem[10481] = 1969\\n',\n",
       " 'mem[61056] = 100302708\\n',\n",
       " 'mem[62768] = 97484359\\n',\n",
       " 'mask = 0X0XX100001X11XX0100010010X001001X10\\n',\n",
       " 'mem[11117] = 90479\\n',\n",
       " 'mem[51399] = 5088\\n',\n",
       " 'mem[65489] = 273\\n',\n",
       " 'mem[29185] = 9519\\n',\n",
       " 'mem[46096] = 669\\n',\n",
       " 'mask = 01111X0XXX111X11X1X01010100X01X00001\\n',\n",
       " 'mem[6256] = 8901226\\n',\n",
       " 'mem[38934] = 11506\\n',\n",
       " 'mem[4000] = 49916408\\n',\n",
       " 'mem[31753] = 7960142\\n',\n",
       " 'mem[61777] = 22041\\n',\n",
       " 'mask = X11110001110110X000X011100X00XX00001\\n',\n",
       " 'mem[37652] = 309890\\n',\n",
       " 'mem[4955] = 6491368\\n',\n",
       " 'mask = 0X1X110000X00X001000011000100110X011\\n',\n",
       " 'mem[35882] = 20171\\n',\n",
       " 'mem[14041] = 542\\n',\n",
       " 'mem[973] = 33148060\\n',\n",
       " 'mem[61056] = 2230\\n',\n",
       " 'mem[30545] = 2890\\n',\n",
       " 'mem[48094] = 745799437\\n',\n",
       " 'mask = 1011000011X1111000X0X1XX11X1X10X0101\\n',\n",
       " 'mem[61322] = 765242\\n',\n",
       " 'mem[6315] = 7001612\\n',\n",
       " 'mem[11278] = 12973\\n',\n",
       " 'mem[59259] = 2040\\n',\n",
       " 'mem[46184] = 498\\n',\n",
       " 'mask = X01X10101X1X0100000X10101011X110X011\\n',\n",
       " 'mem[1103] = 6682\\n',\n",
       " 'mem[49066] = 528792283\\n',\n",
       " 'mem[42040] = 222766\\n']"
      ]
     },
     "execution_count": 2,
     "metadata": {},
     "output_type": "execute_result"
    }
   ],
   "source": [
    "lines"
   ]
  },
  {
   "cell_type": "code",
   "execution_count": 53,
   "metadata": {},
   "outputs": [],
   "source": [
    "lines = ['mask = XXXXXXXXXXXXXXXXXXXXXXXXXXXXX1XXXX0X',\n",
    "'mem[8] = 11',\n",
    "'mem[7] = 101',\n",
    "'mem[8] = 0']"
   ]
  },
  {
   "cell_type": "code",
   "execution_count": 66,
   "metadata": {},
   "outputs": [],
   "source": [
    "register = dict()\n",
    "\n",
    "def write_mem(value,mask):\n",
    "    # convert val to binary first.\n",
    "    #binary_val = bin(9976167)[2:]\n",
    "    # then bit mask\n",
    "    #print(bin(9976167)[2:].zfill(36))\n",
    "    #print(memmask)\n",
    "    masked_val = ''\n",
    "    for b,m in zip(bin(value)[2:].zfill(36),memmask):\n",
    "        #print(b,m)\n",
    "        if m == 'X':\n",
    "            masked_val+=b\n",
    "        else:\n",
    "            masked_val+=m\n",
    "    #print(masked_val)\n",
    "    masked_val = int('0b'+masked_val,2)\n",
    "    \n",
    "    return masked_val\n",
    "\n",
    "\n",
    "for line in lines:\n",
    "    l = line.replace('\\n','')\n",
    "    if 'mask' in l:\n",
    "        memmask = l.split(' = ')[1]\n",
    "        #print(memmask)\n",
    "    if 'mem' in l:\n",
    "        addrraw,value = l.split(' = ')\n",
    "        value = int(value)\n",
    "        addr = int(addrraw.split('[')[1][:-1])\n",
    "        #print(addr,value)\n",
    "        register[addr] = write_mem(value,memmask)\n",
    "        "
   ]
  },
  {
   "cell_type": "code",
   "execution_count": 62,
   "metadata": {},
   "outputs": [
    {
     "data": {
      "text/plain": [
       "{8: 64, 7: 101}"
      ]
     },
     "execution_count": 62,
     "metadata": {},
     "output_type": "execute_result"
    }
   ],
   "source": [
    "register"
   ]
  },
  {
   "cell_type": "code",
   "execution_count": 67,
   "metadata": {},
   "outputs": [
    {
     "data": {
      "text/plain": [
       "7611244640053"
      ]
     },
     "execution_count": 67,
     "metadata": {},
     "output_type": "execute_result"
    }
   ],
   "source": [
    "sum(list(register.values()))"
   ]
  },
  {
   "cell_type": "code",
   "execution_count": 63,
   "metadata": {},
   "outputs": [
    {
     "data": {
      "text/plain": [
       "dict_keys([8, 7])"
      ]
     },
     "execution_count": 63,
     "metadata": {},
     "output_type": "execute_result"
    }
   ],
   "source": [
    "register.keys()"
   ]
  },
  {
   "cell_type": "code",
   "execution_count": 43,
   "metadata": {},
   "outputs": [
    {
     "name": "stdout",
     "output_type": "stream",
     "text": [
      "000000000000100110000011100101100111\n",
      "X011X00011011110001X01010011X0X0X010\n",
      "001100001101111000100101001100100010\n"
     ]
    },
    {
     "data": {
      "text/plain": [
       "13117838114"
      ]
     },
     "execution_count": 43,
     "metadata": {},
     "output_type": "execute_result"
    }
   ],
   "source": [
    "print(bin(9976167)[2:].zfill(36))\n",
    "print(memmask)\n",
    "masked_val = ''\n",
    "for b,m in zip(bin(9976167)[2:].zfill(36),memmask):\n",
    "    #print(b,m)\n",
    "    if m == 'X':\n",
    "        masked_val+=b\n",
    "    else:\n",
    "        masked_val+=m\n",
    "print(masked_val)\n",
    "int('0b'+masked_val,2)"
   ]
  },
  {
   "cell_type": "code",
   "execution_count": 42,
   "metadata": {},
   "outputs": [
    {
     "data": {
      "text/plain": [
       "7"
      ]
     },
     "execution_count": 42,
     "metadata": {},
     "output_type": "execute_result"
    }
   ],
   "source": [
    "int(bin(7),2)"
   ]
  },
  {
   "cell_type": "code",
   "execution_count": null,
   "metadata": {},
   "outputs": [],
   "source": [
    "mask = 000000000000000000000000000000X1001X\n",
    "mem[42] = 100\n",
    "mask = 00000000000000000000000000000000X0XX\n",
    "mem[26] = 1\n",
    "result:  000000000000000000000000000000X1101X"
   ]
  },
  {
   "cell_type": "code",
   "execution_count": 129,
   "metadata": {},
   "outputs": [],
   "source": [
    "#Part 2"
   ]
  },
  {
   "cell_type": "code",
   "execution_count": 141,
   "metadata": {},
   "outputs": [],
   "source": [
    "lines = ['mask = 000000000000000000000000000000X1001X',\n",
    "'mem[42] = 100',\n",
    "'mask = 00000000000000000000000000000000X0XX',\n",
    "'mem[26] = 1']"
   ]
  },
  {
   "cell_type": "code",
   "execution_count": 155,
   "metadata": {},
   "outputs": [
    {
     "data": {
      "text/plain": [
       "3705162613854"
      ]
     },
     "execution_count": 155,
     "metadata": {},
     "output_type": "execute_result"
    }
   ],
   "source": [
    "from collections import defaultdict\n",
    "import itertools\n",
    "\n",
    "\n",
    "f = open('./day14/input.txt')\n",
    "lines = f.readlines()\n",
    "f.close()\n",
    "\n",
    "register = dict()\n",
    "\n",
    "\n",
    "def make_addresses(address,value,mask,register):\n",
    "    \n",
    "    masked_val = ''\n",
    "    for b,m in zip(bin(address)[2:].zfill(36),mask):\n",
    "        if m == 'X' or m =='1':\n",
    "            masked_val+=m\n",
    "        else:\n",
    "            masked_val+=b\n",
    "    #print(address)\n",
    "    #print(mask)\n",
    "    #print(masked_val)\n",
    "    mlist = [v for v in masked_val]\n",
    "\n",
    "    x_indexes = [i for i in range(len(masked_val)) if masked_val[i] == 'X']\n",
    "    options = list(itertools.product(['1','0'], repeat=len(x_indexes)))\n",
    "    for i in range(len(options)):\n",
    "        for v in range(len(options[i])):\n",
    "            mlist[x_indexes[v]] = options[i][v]\n",
    "        reg = int('0b'+''.join(mlist),2)\n",
    "        #print(reg)\n",
    "        register[reg] = value\n",
    "    \n",
    "\n",
    "\n",
    "for line in lines:\n",
    "    l = line.replace('\\n','')\n",
    "    if 'mask' in l:\n",
    "        memmask = l.split(' = ')[1]\n",
    "        #print(memmask)\n",
    "    if 'mem' in l:\n",
    "        addrraw,value = l.split(' = ')\n",
    "        value = int(value)\n",
    "        addr = int(addrraw.split('[')[1][:-1])\n",
    "        make_addresses(addr,value,memmask,register)\n",
    "        \n",
    "\n",
    "sum(list(register.values()))"
   ]
  },
  {
   "cell_type": "code",
   "execution_count": null,
   "metadata": {},
   "outputs": [],
   "source": []
  },
  {
   "cell_type": "code",
   "execution_count": null,
   "metadata": {},
   "outputs": [],
   "source": []
  },
  {
   "cell_type": "code",
   "execution_count": null,
   "metadata": {},
   "outputs": [],
   "source": []
  },
  {
   "cell_type": "code",
   "execution_count": null,
   "metadata": {},
   "outputs": [],
   "source": []
  },
  {
   "cell_type": "code",
   "execution_count": null,
   "metadata": {},
   "outputs": [],
   "source": []
  },
  {
   "cell_type": "code",
   "execution_count": null,
   "metadata": {},
   "outputs": [],
   "source": []
  },
  {
   "cell_type": "code",
   "execution_count": null,
   "metadata": {},
   "outputs": [],
   "source": []
  },
  {
   "cell_type": "code",
   "execution_count": null,
   "metadata": {},
   "outputs": [],
   "source": []
  },
  {
   "cell_type": "code",
   "execution_count": null,
   "metadata": {},
   "outputs": [],
   "source": []
  },
  {
   "cell_type": "code",
   "execution_count": null,
   "metadata": {},
   "outputs": [],
   "source": [
    "000000000000000000000000000000X1101X"
   ]
  },
  {
   "cell_type": "code",
   "execution_count": 124,
   "metadata": {},
   "outputs": [
    {
     "name": "stdout",
     "output_type": "stream",
     "text": [
      "a 000000000000000000000000000000101010\n",
      "m 000000000000000000000000000000X1001X\n",
      "r 000000000000000000000000000000X1101X\n",
      "t 000000000000000000000000000000X1101X\n"
     ]
    }
   ],
   "source": [
    "memmask = '000000000000000000000000000000X1001X'\n",
    "address =42 \n",
    "value = 100\n",
    "print('a',bin(address)[2:].zfill(36))\n",
    "print('m',memmask)\n",
    "masked_val = ''\n",
    "for b,m in zip(bin(address)[2:].zfill(36),memmask):\n",
    "    #print(b,m)\n",
    "    if m == 'X' or m =='1':\n",
    "        masked_val+=m\n",
    "    else:\n",
    "        masked_val+=b\n",
    "\n",
    "mlist = [v for v in masked_val]\n",
    "print('r',masked_val)\n",
    "#int('0b'+masked_val,2)\n",
    "\n",
    "print('t','000000000000000000000000000000X1101X')"
   ]
  },
  {
   "cell_type": "code",
   "execution_count": 125,
   "metadata": {},
   "outputs": [
    {
     "data": {
      "text/plain": [
       "[('1', '1'), ('1', '0'), ('0', '1'), ('0', '0')]"
      ]
     },
     "execution_count": 125,
     "metadata": {},
     "output_type": "execute_result"
    }
   ],
   "source": [
    "import itertools\n",
    "x_indexes = [i for i in range(len(masked_val)) if masked_val[i] == 'X']\n",
    "options = list(itertools.product(['1','0'], repeat=len(x_indexes)))\n",
    "options"
   ]
  },
  {
   "cell_type": "code",
   "execution_count": 126,
   "metadata": {},
   "outputs": [
    {
     "data": {
      "text/plain": [
       "[('1', '1'), ('1', '0'), ('0', '1'), ('0', '0')]"
      ]
     },
     "execution_count": 126,
     "metadata": {},
     "output_type": "execute_result"
    }
   ],
   "source": [
    "options"
   ]
  },
  {
   "cell_type": "code",
   "execution_count": 127,
   "metadata": {},
   "outputs": [
    {
     "name": "stdout",
     "output_type": "stream",
     "text": [
      "59\n",
      "58\n",
      "27\n",
      "26\n"
     ]
    }
   ],
   "source": [
    "for i in range(len(options)):\n",
    "    for v in range(len(options[i])):\n",
    "        mlist[x_indexes[v]] = options[i][v]\n",
    "    print(int('0b'+''.join(mlist),2))\n",
    "    "
   ]
  },
  {
   "cell_type": "code",
   "execution_count": null,
   "metadata": {},
   "outputs": [],
   "source": [
    "for e in range(len(options)):\n",
    "    for i in range(len(options[e])):\n",
    "        index_vals[x_indexes[i]] = options[e][i]\n"
   ]
  },
  {
   "cell_type": "code",
   "execution_count": 122,
   "metadata": {},
   "outputs": [
    {
     "data": {
      "text/plain": [
       "'00000000000000000000000000000011101X'"
      ]
     },
     "execution_count": 122,
     "metadata": {},
     "output_type": "execute_result"
    }
   ],
   "source": [
    "''.join(mlist)"
   ]
  },
  {
   "cell_type": "code",
   "execution_count": 110,
   "metadata": {},
   "outputs": [
    {
     "data": {
      "text/plain": [
       "'00000000000000000000000000000011101X'"
      ]
     },
     "execution_count": 110,
     "metadata": {},
     "output_type": "execute_result"
    }
   ],
   "source": [
    "''.join(mlist)"
   ]
  },
  {
   "cell_type": "code",
   "execution_count": 86,
   "metadata": {},
   "outputs": [
    {
     "data": {
      "text/plain": [
       "'000000000000000000000000000000X1101X'"
      ]
     },
     "execution_count": 86,
     "metadata": {},
     "output_type": "execute_result"
    }
   ],
   "source": [
    "masked_val"
   ]
  },
  {
   "cell_type": "code",
   "execution_count": 89,
   "metadata": {},
   "outputs": [
    {
     "data": {
      "text/plain": [
       "'000000000000000000000000000000'"
      ]
     },
     "execution_count": 89,
     "metadata": {},
     "output_type": "execute_result"
    }
   ],
   "source": [
    "masked_val[0:x_indexes[0]]"
   ]
  },
  {
   "cell_type": "code",
   "execution_count": 92,
   "metadata": {},
   "outputs": [
    {
     "data": {
      "text/plain": [
       "'1101X'"
      ]
     },
     "execution_count": 92,
     "metadata": {},
     "output_type": "execute_result"
    }
   ],
   "source": [
    "masked_val[x_indexes[0]+1:]"
   ]
  },
  {
   "cell_type": "code",
   "execution_count": null,
   "metadata": {},
   "outputs": [],
   "source": []
  }
 ],
 "metadata": {
  "kernelspec": {
   "display_name": "Python 3",
   "language": "python",
   "name": "python3"
  },
  "language_info": {
   "codemirror_mode": {
    "name": "ipython",
    "version": 3
   },
   "file_extension": ".py",
   "mimetype": "text/x-python",
   "name": "python",
   "nbconvert_exporter": "python",
   "pygments_lexer": "ipython3",
   "version": "3.8.3"
  }
 },
 "nbformat": 4,
 "nbformat_minor": 4
}
