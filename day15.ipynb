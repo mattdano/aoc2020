{
 "cells": [
  {
   "cell_type": "code",
   "execution_count": 8,
   "metadata": {},
   "outputs": [],
   "source": [
    "def seen(thelist,val):\n",
    "    #returns index of last seen\n",
    "    store = []\n",
    "    for p,l in enumerate(thelist):\n",
    "        if val == l:\n",
    "            store.append(p)\n",
    "    return store"
   ]
  },
  {
   "cell_type": "code",
   "execution_count": null,
   "metadata": {},
   "outputs": [],
   "source": [
    "Given the starting numbers 1,3,2, the 2020th number spoken is 1.\n",
    "Given the starting numbers 2,1,3, the 2020th number spoken is 10.\n",
    "Given the starting numbers 1,2,3, the 2020th number spoken is 27.\n",
    "Given the starting numbers 2,3,1, the 2020th number spoken is 78.\n",
    "Given the starting numbers 3,2,1, the 2020th number spoken is 438.\n",
    "Given the starting numbers 3,1,2, the 2020th number spoken is 1836.\n"
   ]
  },
  {
   "cell_type": "code",
   "execution_count": 30,
   "metadata": {},
   "outputs": [],
   "source": [
    "import tqdm"
   ]
  },
  {
   "cell_type": "code",
   "execution_count": 33,
   "metadata": {},
   "outputs": [
    {
     "name": "stderr",
     "output_type": "stream",
     "text": [
      "100%|██████████| 2014/2014 [00:00<00:00, 15696.16it/s]"
     ]
    },
    {
     "name": "stdout",
     "output_type": "stream",
     "text": [
      "2020 959\n"
     ]
    },
    {
     "name": "stderr",
     "output_type": "stream",
     "text": [
      "\n"
     ]
    }
   ],
   "source": [
    "prev = [18,11,9,0,5,1]\n",
    "#prev = [1,3,2]\n",
    "#prev = [0,3,6]\n",
    "\n",
    "for t in tqdm.tqdm(range(len(prev),2020)):\n",
    "    if prev[-1] not in prev[:-1]:\n",
    "        num = 0\n",
    "    else:\n",
    "        stored = seen(prev,prev[-1])\n",
    "        if len(stored) == 1:\n",
    "            num = stored[0]\n",
    "        elif len(stored)>1:\n",
    "            n2, n1 = stored[-2],stored[-1]\n",
    "            num = n1-n2\n",
    "    prev.append(num)\n",
    "#print(prev,len(prev))\n",
    "print(t+1,num)"
   ]
  },
  {
   "cell_type": "code",
   "execution_count": null,
   "metadata": {},
   "outputs": [],
   "source": [
    "0,3,6,0,3,3,1,0,4,0"
   ]
  },
  {
   "cell_type": "code",
   "execution_count": null,
   "metadata": {},
   "outputs": [],
   "source": [
    "# too slow before, need to cache the look ups instead of a list search\n",
    "prevpos = dict()\n",
    "prev = [18,11,9,0,5,1]\n",
    "\n",
    "def calc(prev, stop):\n",
    "    prevpos = dict()\n",
    "    i = 1\n",
    "    for s in prev[:-1]:\n",
    "        prevpos[s] = i\n",
    "        i += 1\n",
    "    n = prev[-1]\n",
    "    i += 1\n",
    "    while i <= stop:\n",
    "        if n not in prevpos:\n",
    "            prevpos[n] = i - 1\n",
    "            n = 0\n",
    "        else:\n",
    "            diff = i - 1 - prevpos[n]\n",
    "            prevpos[n] = i - 1\n",
    "            n = diff\n",
    "        i += 1\n",
    "    return n\n",
    "\n",
    "calc(prev,30000000)"
   ]
  },
  {
   "cell_type": "code",
   "execution_count": null,
   "metadata": {
    "collapsed": true
   },
   "outputs": [],
   "source": []
  }
 ],
 "metadata": {
  "kernelspec": {
   "display_name": "Python 3",
   "language": "python",
   "name": "python3"
  },
  "language_info": {
   "codemirror_mode": {
    "name": "ipython",
    "version": 3
   },
   "file_extension": ".py",
   "mimetype": "text/x-python",
   "name": "python",
   "nbconvert_exporter": "python",
   "pygments_lexer": "ipython3",
   "version": "3.8.3"
  }
 },
 "nbformat": 4,
 "nbformat_minor": 4
}
