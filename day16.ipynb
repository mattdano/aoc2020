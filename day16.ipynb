{
 "cells": [
  {
   "cell_type": "code",
   "execution_count": 1,
   "metadata": {},
   "outputs": [],
   "source": [
    "f = open('./day16/input.txt','r')\n",
    "lines = f.readlines()\n",
    "f.close()"
   ]
  },
  {
   "cell_type": "code",
   "execution_count": 2,
   "metadata": {},
   "outputs": [],
   "source": [
    "metas = lines[0:20]\n",
    "metas"
   ]
  },
  {
   "cell_type": "code",
   "execution_count": 3,
   "metadata": {},
   "outputs": [],
   "source": [
    "from collections import defaultdict\n",
    "field_vals = dict()\n",
    "for meta in metas:\n",
    "    field,vals = meta.replace('\\n','').split(':')\n",
    "    vs = []\n",
    "    for val in vals.split(' or '):\n",
    "        low,high = map(int,val.split('-'))\n",
    "        vs.append([low,high])\n",
    "    field_vals[field] = vs"
   ]
  },
  {
   "cell_type": "code",
   "execution_count": 4,
   "metadata": {},
   "outputs": [],
   "source": [
    "field_vals['departure location']"
   ]
  },
  {
   "cell_type": "code",
   "execution_count": 5,
   "metadata": {},
   "outputs": [],
   "source": [
    "field_vals"
   ]
  },
  {
   "cell_type": "code",
   "execution_count": 6,
   "metadata": {},
   "outputs": [
    {
     "data": {
      "text/plain": [
       "7"
      ]
     },
     "execution_count": 6,
     "metadata": {},
     "output_type": "execute_result"
    }
   ],
   "source": [
    "def test(mynum):\n",
    "    score = 0\n",
    "    for values in field_vals.values():\n",
    "            for value in values:\n",
    "                if value[0]<mynum <value[1]:\n",
    "                    score+=1\n",
    "    return score\n",
    "test(34)"
   ]
  },
  {
   "cell_type": "code",
   "execution_count": 7,
   "metadata": {},
   "outputs": [
    {
     "data": {
      "text/plain": [
       "(53, 29878)"
      ]
     },
     "execution_count": 7,
     "metadata": {},
     "output_type": "execute_result"
    }
   ],
   "source": [
    "invalid = 0\n",
    "failvals = []\n",
    "keepers = []\n",
    "for i, l in enumerate(lines[25:]):\n",
    "    inv = False\n",
    "    nums = list(map(int,l.replace('\\n','').split(',')))\n",
    "    for num in nums: \n",
    "        if test(num) == 0:\n",
    "            invalid+=1\n",
    "            failvals.append(num)\n",
    "            inv=True\n",
    "            break\n",
    "    if not inv:\n",
    "        keepers.append(nums)\n",
    "    \n",
    "invalid  ,sum(failvals)  "
   ]
  },
  {
   "cell_type": "code",
   "execution_count": 8,
   "metadata": {},
   "outputs": [
    {
     "data": {
      "text/plain": [
       "(190, 190)"
      ]
     },
     "execution_count": 8,
     "metadata": {},
     "output_type": "execute_result"
    }
   ],
   "source": [
    "len(keepers),len(lines[25:])-53"
   ]
  },
  {
   "cell_type": "code",
   "execution_count": 9,
   "metadata": {},
   "outputs": [],
   "source": [
    "import pandas as pd\n",
    "import numpy as np\n"
   ]
  },
  {
   "cell_type": "code",
   "execution_count": 13,
   "metadata": {},
   "outputs": [
    {
     "name": "stdout",
     "output_type": "stream",
     "text": [
      "0 departure station\n",
      "0 departure track\n",
      "0 departure time\n",
      "0 arrival location\n",
      "0 arrival platform\n",
      "0 arrival track\n",
      "0 price\n",
      "0 route\n",
      "0 type\n",
      "0 wagon\n",
      "0 zone\n",
      "1 departure location\n",
      "1 departure station\n",
      "1 departure platform\n",
      "1 departure track\n",
      "1 departure date\n",
      "1 departure time\n",
      "1 arrival location\n",
      "1 arrival station\n",
      "1 arrival platform\n",
      "1 arrival track\n",
      "1 class\n",
      "1 duration\n",
      "1 price\n",
      "1 route\n",
      "1 row\n",
      "1 seat\n",
      "1 train\n",
      "1 type\n",
      "1 wagon\n",
      "1 zone\n",
      "2 arrival platform\n",
      "2 price\n",
      "3 departure location\n",
      "3 departure station\n",
      "3 departure platform\n",
      "3 departure track\n",
      "3 departure date\n",
      "3 departure time\n",
      "3 arrival location\n",
      "3 arrival platform\n",
      "3 arrival track\n",
      "3 class\n",
      "3 price\n",
      "3 route\n",
      "3 seat\n",
      "3 train\n",
      "3 type\n",
      "3 wagon\n",
      "3 zone\n",
      "4 departure location\n",
      "4 departure station\n",
      "4 departure platform\n",
      "4 departure track\n",
      "4 departure date\n",
      "4 departure time\n",
      "4 arrival location\n",
      "4 arrival platform\n",
      "4 arrival track\n",
      "4 class\n",
      "4 price\n",
      "4 route\n",
      "4 seat\n",
      "4 type\n",
      "4 wagon\n",
      "4 zone\n",
      "5 departure station\n",
      "5 departure platform\n",
      "5 departure track\n",
      "5 departure date\n",
      "5 departure time\n",
      "5 arrival location\n",
      "5 arrival platform\n",
      "5 arrival track\n",
      "5 price\n",
      "5 route\n",
      "5 type\n",
      "5 wagon\n",
      "5 zone\n",
      "6 arrival location\n",
      "6 arrival platform\n",
      "6 arrival track\n",
      "6 price\n",
      "6 route\n",
      "6 type\n",
      "6 wagon\n",
      "6 zone\n",
      "7 arrival platform\n",
      "7 arrival track\n",
      "7 price\n",
      "7 route\n",
      "7 wagon\n",
      "8 departure location\n",
      "8 departure station\n",
      "8 departure platform\n",
      "8 departure track\n",
      "8 departure date\n",
      "8 departure time\n",
      "8 arrival location\n",
      "8 arrival platform\n",
      "8 arrival track\n",
      "8 class\n",
      "8 price\n",
      "8 route\n",
      "8 type\n",
      "8 wagon\n",
      "8 zone\n",
      "9 departure location\n",
      "9 departure station\n",
      "9 departure platform\n",
      "9 departure track\n",
      "9 departure date\n",
      "9 departure time\n",
      "9 arrival location\n",
      "9 arrival station\n",
      "9 arrival platform\n",
      "9 arrival track\n",
      "9 class\n",
      "9 duration\n",
      "9 price\n",
      "9 route\n",
      "9 seat\n",
      "9 train\n",
      "9 type\n",
      "9 wagon\n",
      "9 zone\n",
      "10 departure time\n",
      "10 arrival location\n",
      "10 arrival platform\n",
      "10 arrival track\n",
      "10 price\n",
      "10 route\n",
      "10 type\n",
      "10 wagon\n",
      "10 zone\n",
      "11 price\n",
      "12 departure location\n",
      "12 departure station\n",
      "12 departure platform\n",
      "12 departure track\n",
      "12 departure date\n",
      "12 departure time\n",
      "12 arrival location\n",
      "12 arrival platform\n",
      "12 arrival track\n",
      "12 class\n",
      "12 duration\n",
      "12 price\n",
      "12 route\n",
      "12 seat\n",
      "12 train\n",
      "12 type\n",
      "12 wagon\n",
      "12 zone\n",
      "13 arrival platform\n",
      "13 arrival track\n",
      "13 price\n",
      "13 wagon\n",
      "14 departure station\n",
      "14 departure track\n",
      "14 departure date\n",
      "14 departure time\n",
      "14 arrival location\n",
      "14 arrival platform\n",
      "14 arrival track\n",
      "14 price\n",
      "14 route\n",
      "14 type\n",
      "14 wagon\n",
      "14 zone\n",
      "15 departure location\n",
      "15 departure station\n",
      "15 departure platform\n",
      "15 departure track\n",
      "15 departure date\n",
      "15 departure time\n",
      "15 arrival location\n",
      "15 arrival platform\n",
      "15 arrival track\n",
      "15 price\n",
      "15 route\n",
      "15 type\n",
      "15 wagon\n",
      "15 zone\n",
      "16 arrival location\n",
      "16 arrival platform\n",
      "16 arrival track\n",
      "16 price\n",
      "16 route\n",
      "16 wagon\n",
      "17 departure station\n",
      "17 departure time\n",
      "17 arrival location\n",
      "17 arrival platform\n",
      "17 arrival track\n",
      "17 price\n",
      "17 route\n",
      "17 type\n",
      "17 wagon\n",
      "17 zone\n",
      "18 arrival platform\n",
      "18 arrival track\n",
      "18 price\n",
      "19 arrival location\n",
      "19 arrival platform\n",
      "19 arrival track\n",
      "19 price\n",
      "19 route\n",
      "19 type\n",
      "19 wagon\n"
     ]
    }
   ],
   "source": [
    "tickets = np.asarray(keepers)\n",
    "posscol =defaultdict(list)\n",
    "\n",
    "for column in range(20):\n",
    "    for k,v in field_vals.items():\n",
    "    #print(v)\n",
    "        #if 'departure' in k :\n",
    "        tmp = tickets[:,column]\n",
    "        result = (((v[0][0]<=tmp)&(tmp<=v[0][1])) | ((v[1][0]<=tmp) & (tmp<=v[1][1]))).all()\n",
    "        if result: \n",
    "            print(column,k)\n",
    "            posscol[column].append(k)\n"
   ]
  },
  {
   "cell_type": "code",
   "execution_count": 16,
   "metadata": {},
   "outputs": [
    {
     "data": {
      "text/plain": [
       "dict_keys(['departure location', 'departure station', 'departure platform', 'departure track', 'departure date', 'departure time', 'arrival location', 'arrival station', 'arrival platform', 'arrival track', 'class', 'duration', 'price', 'route', 'row', 'seat', 'train', 'type', 'wagon', 'zone'])"
      ]
     },
     "execution_count": 16,
     "metadata": {},
     "output_type": "execute_result"
    }
   ],
   "source": [
    "field_vals.keys()"
   ]
  },
  {
   "cell_type": "code",
   "execution_count": 17,
   "metadata": {},
   "outputs": [],
   "source": [
    "fields = field_vals.keys()\n",
    "fields_order = ['' for _ in range(len(fields))]\n",
    "  \n",
    "while any(not field for field in fields_order):\n",
    "    pos = next(pos for pos, potential_vaules in posscol.items() if len(potential_vaules) == 1)\n",
    "    value = posscol[pos].pop()\n",
    "    for potential_vaules in posscol.values():\n",
    "        if value in potential_vaules:\n",
    "            potential_vaules.remove(value)\n",
    "    fields_order[pos] = value"
   ]
  },
  {
   "cell_type": "code",
   "execution_count": 18,
   "metadata": {},
   "outputs": [
    {
     "data": {
      "text/plain": [
       "['departure track',\n",
       " 'row',\n",
       " 'arrival platform',\n",
       " 'train',\n",
       " 'seat',\n",
       " 'departure platform',\n",
       " 'zone',\n",
       " 'route',\n",
       " 'class',\n",
       " 'arrival station',\n",
       " 'departure time',\n",
       " 'price',\n",
       " 'duration',\n",
       " 'wagon',\n",
       " 'departure date',\n",
       " 'departure location',\n",
       " 'arrival location',\n",
       " 'departure station',\n",
       " 'arrival track',\n",
       " 'type']"
      ]
     },
     "execution_count": 18,
     "metadata": {},
     "output_type": "execute_result"
    }
   ],
   "source": [
    "fields_order"
   ]
  },
  {
   "cell_type": "code",
   "execution_count": 28,
   "metadata": {},
   "outputs": [
    {
     "data": {
      "text/plain": [
       "855438643439"
      ]
     },
     "execution_count": 28,
     "metadata": {},
     "output_type": "execute_result"
    }
   ],
   "source": [
    "ans = 1\n",
    "for colname,index in zip(fields_order,list(map(int,lines[22].replace('\\n','').split(',')))):\n",
    "    if 'departure' in colname:\n",
    "         ans*=index\n",
    "            \n",
    "ans"
   ]
  },
  {
   "cell_type": "code",
   "execution_count": null,
   "metadata": {},
   "outputs": [],
   "source": []
  }
 ],
 "metadata": {
  "kernelspec": {
   "display_name": "Python 3",
   "language": "python",
   "name": "python3"
  },
  "language_info": {
   "codemirror_mode": {
    "name": "ipython",
    "version": 3
   },
   "file_extension": ".py",
   "mimetype": "text/x-python",
   "name": "python",
   "nbconvert_exporter": "python",
   "pygments_lexer": "ipython3",
   "version": "3.8.3"
  }
 },
 "nbformat": 4,
 "nbformat_minor": 4
}
