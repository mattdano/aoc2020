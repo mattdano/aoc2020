{
 "cells": [
  {
   "cell_type": "code",
   "execution_count": 4,
   "metadata": {},
   "outputs": [],
   "source": [
    "f=open('./day18/input.txt','r')\n",
    "lines = f.readlines()\n",
    "f.close()"
   ]
  },
  {
   "cell_type": "code",
   "execution_count": 5,
   "metadata": {},
   "outputs": [
    {
     "data": {
      "text/plain": [
       "'(6 + (9 + 4 + 8 * 2 + 3) * 6 + 8 + 4) + 3 + (6 * 5 * 2) * 6\\n'"
      ]
     },
     "execution_count": 5,
     "metadata": {},
     "output_type": "execute_result"
    }
   ],
   "source": [
    "lines[0]"
   ]
  },
  {
   "cell_type": "code",
   "execution_count": 10,
   "metadata": {},
   "outputs": [
    {
     "data": {
      "text/plain": [
       "362464596624526"
      ]
     },
     "execution_count": 10,
     "metadata": {},
     "output_type": "execute_result"
    }
   ],
   "source": [
    "import ast\n",
    "from typing import List\n",
    "\n",
    "\n",
    "class SubToMult(ast.NodeTransformer):\n",
    "    def visit_Sub(self, node):\n",
    "        return ast.Mult()\n",
    "\n",
    "class DivToAdd(ast.NodeTransformer):\n",
    "    def visit_Div(self, node):\n",
    "        return ast.Add()\n",
    "    \n",
    "def part1(lines: List[str]):\n",
    "    result = []\n",
    "    for line in lines:\n",
    "        tree = ast.parse(f\"this_result = {line.replace('*', '-')}\")\n",
    "        SubToMult().visit(tree)\n",
    "        code = compile(tree, filename=\"<ast>\", mode=\"exec\")\n",
    "        exec(code, globals())\n",
    "        result.append(this_result)\n",
    "    return sum(result)\n",
    "\n",
    "def part2(lines: List[str]):\n",
    "    result = []\n",
    "    for line in lines:\n",
    "        tree = ast.parse(f\"this_result = {line.replace('*', '-').replace('+', '/')}\")\n",
    "        SubToMult().visit(tree)\n",
    "        DivToAdd().visit(tree)\n",
    "        code = compile(tree, filename=\"<ast>\", mode=\"exec\")\n",
    "        exec(code, globals())\n",
    "        result.append(this_result)\n",
    "    return sum(result)\n",
    "\n",
    "part1(lines)\n",
    "part2(lines)"
   ]
  },
  {
   "cell_type": "code",
   "execution_count": null,
   "metadata": {},
   "outputs": [],
   "source": []
  }
 ],
 "metadata": {
  "kernelspec": {
   "display_name": "Python 3",
   "language": "python",
   "name": "python3"
  },
  "language_info": {
   "codemirror_mode": {
    "name": "ipython",
    "version": 3
   },
   "file_extension": ".py",
   "mimetype": "text/x-python",
   "name": "python",
   "nbconvert_exporter": "python",
   "pygments_lexer": "ipython3",
   "version": "3.8.3"
  }
 },
 "nbformat": 4,
 "nbformat_minor": 4
}
