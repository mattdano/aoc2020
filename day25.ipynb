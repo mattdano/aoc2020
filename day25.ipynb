{
 "cells": [
  {
   "cell_type": "code",
   "execution_count": null,
   "metadata": {},
   "outputs": [],
   "source": [
    "The handshake used by the card and the door involves an operation that transforms a subject number. To transform a subject number, start with the value 1. Then, a number of times called the loop size, perform the following steps:\n",
    "\n",
    "Set the value to itself multiplied by the subject number.\n",
    "Set the value to the remainder after dividing the value by 20201227.\n"
   ]
  },
  {
   "cell_type": "code",
   "execution_count": 2,
   "metadata": {},
   "outputs": [
    {
     "name": "stdout",
     "output_type": "stream",
     "text": [
      "1\n"
     ]
    }
   ],
   "source": [
    "subject = 7\n",
    "# if we transform both, we should get the same num. \n",
    "lcount = 0\n",
    "key1 = 1\n",
    "key2 = 1 \n",
    "\n",
    "k1,k2 =8335663,8614349\n",
    "while True:\n",
    "    \n",
    "    key1 *= subject\n",
    "    key1 = key1 % 20201227\n",
    "\n",
    "    key2 *= subject\n",
    "    key2 = key2 % 20201227\n",
    "\n",
    "    lcount+=1\n",
    "    \n",
    "    if key1 == key2:\n",
    "        print(lcount)\n",
    "        break"
   ]
  },
  {
   "cell_type": "code",
   "execution_count": 5,
   "metadata": {},
   "outputs": [
    {
     "name": "stdout",
     "output_type": "stream",
     "text": [
      "6041182 8335663\n",
      "8306868 8614349\n",
      "8614349\n"
     ]
    }
   ],
   "source": [
    "key1 = 1\n",
    "subject = 7 \n",
    "lcount = 0\n",
    "keysfound = 0 \n",
    "while True:\n",
    "    \n",
    "    key1 *= subject\n",
    "    key1 = key1 % 20201227\n",
    "    if key1==8335663 or key1 == 8614349:\n",
    "        print(lcount,key1)\n",
    "        keysfound+=1\n",
    "        if keysfound == 2:\n",
    "            break\n",
    "    lcount+=1\n",
    "\n"
   ]
  },
  {
   "cell_type": "code",
   "execution_count": 27,
   "metadata": {},
   "outputs": [
    {
     "data": {
      "text/plain": [
       "8614349"
      ]
     },
     "execution_count": 27,
     "metadata": {},
     "output_type": "execute_result"
    }
   ],
   "source": [
    "make_key(7,8306869)"
   ]
  },
  {
   "cell_type": "code",
   "execution_count": 32,
   "metadata": {},
   "outputs": [
    {
     "data": {
      "text/plain": [
       "8614349"
      ]
     },
     "execution_count": 32,
     "metadata": {},
     "output_type": "execute_result"
    }
   ],
   "source": [
    "make_key(7,8306869)"
   ]
  },
  {
   "cell_type": "code",
   "execution_count": 34,
   "metadata": {},
   "outputs": [
    {
     "data": {
      "text/plain": [
       "8335663"
      ]
     },
     "execution_count": 34,
     "metadata": {},
     "output_type": "execute_result"
    }
   ],
   "source": [
    "make_key(7,6041183)"
   ]
  },
  {
   "cell_type": "code",
   "execution_count": 36,
   "metadata": {},
   "outputs": [
    {
     "name": "stdout",
     "output_type": "stream",
     "text": [
      "8 5764801\n",
      "11 17807724\n"
     ]
    }
   ],
   "source": [
    "key1 = 1\n",
    "subject = 7 \n",
    "lcount = 1\n",
    "keysfound = 0 \n",
    "while True:\n",
    "    \n",
    "    key1 *= subject\n",
    "    key1 = key1 % 20201227\n",
    "    if key1==5764801 or key1 == 17807724:\n",
    "        print(lcount,key1)\n",
    "        keysfound+=1\n",
    "        if keysfound == 2:\n",
    "            break\n",
    "    lcount+=1\n",
    "\n"
   ]
  },
  {
   "cell_type": "code",
   "execution_count": 6,
   "metadata": {},
   "outputs": [
    {
     "name": "stdout",
     "output_type": "stream",
     "text": [
      "11607640\n"
     ]
    }
   ],
   "source": [
    "key1 = 1\n",
    "subject = 8614349\n",
    "lcount = 0\n",
    "keysfound = 0 \n",
    "\n",
    "for i in range(6041182):\n",
    "    key1 *= subject\n",
    "    key1 = key1 % 20201227\n",
    "\n",
    "print(key1)\n",
    "\n"
   ]
  },
  {
   "cell_type": "code",
   "execution_count": 7,
   "metadata": {},
   "outputs": [
    {
     "name": "stdout",
     "output_type": "stream",
     "text": [
      "18751862\n"
     ]
    }
   ],
   "source": [
    "key1 = 1\n",
    "subject = 8335663\n",
    "\n",
    "for i in range(8306868):\n",
    "    key1 *= subject\n",
    "    key1 = key1 % 20201227\n",
    "\n",
    "print(key1)\n"
   ]
  },
  {
   "cell_type": "code",
   "execution_count": 8,
   "metadata": {},
   "outputs": [],
   "source": [
    "def make_key(subjectnum,loopcount):\n",
    "    key1 = 1\n",
    "    subject = subjectnum\n",
    "\n",
    "    for i in range(loopcount):\n",
    "        key1 *= subject\n",
    "        key1 = key1 % 20201227\n",
    "    return key1"
   ]
  },
  {
   "cell_type": "code",
   "execution_count": 9,
   "metadata": {},
   "outputs": [
    {
     "data": {
      "text/plain": [
       "14897079"
      ]
     },
     "execution_count": 9,
     "metadata": {},
     "output_type": "execute_result"
    }
   ],
   "source": [
    "make_key(17807724,8)"
   ]
  },
  {
   "cell_type": "code",
   "execution_count": 10,
   "metadata": {},
   "outputs": [
    {
     "data": {
      "text/plain": [
       "14897079"
      ]
     },
     "execution_count": 10,
     "metadata": {},
     "output_type": "execute_result"
    }
   ],
   "source": [
    "make_key(5764801,11)"
   ]
  },
  {
   "cell_type": "code",
   "execution_count": 35,
   "metadata": {},
   "outputs": [
    {
     "data": {
      "text/plain": [
       "6408263"
      ]
     },
     "execution_count": 35,
     "metadata": {},
     "output_type": "execute_result"
    }
   ],
   "source": [
    "make_key(8614349,6041183)"
   ]
  },
  {
   "cell_type": "code",
   "execution_count": 28,
   "metadata": {},
   "outputs": [
    {
     "data": {
      "text/plain": [
       "6408263"
      ]
     },
     "execution_count": 28,
     "metadata": {},
     "output_type": "execute_result"
    }
   ],
   "source": [
    "make_key(8335663,8306869)\n"
   ]
  },
  {
   "cell_type": "code",
   "execution_count": 24,
   "metadata": {},
   "outputs": [
    {
     "data": {
      "text/plain": [
       "17807724"
      ]
     },
     "execution_count": 24,
     "metadata": {},
     "output_type": "execute_result"
    }
   ],
   "source": [
    "make_key(7,11)"
   ]
  },
  {
   "cell_type": "code",
   "execution_count": null,
   "metadata": {},
   "outputs": [],
   "source": [
    "6041182 8335663\n",
    "8306868+1 8614349\n"
   ]
  },
  {
   "cell_type": "code",
   "execution_count": null,
   "metadata": {},
   "outputs": [],
   "source": []
  },
  {
   "cell_type": "code",
   "execution_count": null,
   "metadata": {},
   "outputs": [],
   "source": []
  }
 ],
 "metadata": {
  "kernelspec": {
   "display_name": "Python 3",
   "language": "python",
   "name": "python3"
  },
  "language_info": {
   "codemirror_mode": {
    "name": "ipython",
    "version": 3
   },
   "file_extension": ".py",
   "mimetype": "text/x-python",
   "name": "python",
   "nbconvert_exporter": "python",
   "pygments_lexer": "ipython3",
   "version": "3.8.3"
  }
 },
 "nbformat": 4,
 "nbformat_minor": 4
}
