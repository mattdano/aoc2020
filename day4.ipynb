{
 "cells": [
  {
   "cell_type": "code",
   "execution_count": 1,
   "metadata": {},
   "outputs": [],
   "source": [
    "import pandas as pd"
   ]
  },
  {
   "cell_type": "code",
   "execution_count": 217,
   "metadata": {},
   "outputs": [],
   "source": [
    "f = open('./day4/input.txt','r')\n",
    "lines = f.readlines()"
   ]
  },
  {
   "cell_type": "code",
   "execution_count": null,
   "metadata": {},
   "outputs": [],
   "source": []
  },
  {
   "cell_type": "code",
   "execution_count": 218,
   "metadata": {},
   "outputs": [
    {
     "data": {
      "text/plain": [
       "'iyr:2017 byr:1994\\n'"
      ]
     },
     "execution_count": 218,
     "metadata": {},
     "output_type": "execute_result"
    }
   ],
   "source": [
    "lines[-1]"
   ]
  },
  {
   "cell_type": "code",
   "execution_count": 260,
   "metadata": {},
   "outputs": [],
   "source": [
    "entries= []\n",
    "row = dict()\n",
    "for i,line in enumerate(lines):\n",
    "    \n",
    "    \n",
    "    fields = line.replace('\\n','').split()\n",
    "    for field in fields:\n",
    "        k,v = field.split(':')\n",
    "        row[k]=v\n",
    "        \n",
    "    if (line == '\\n') or (i == 0) :\n",
    "        row = dict()\n",
    "        entries.append(row)\n",
    "    \n"
   ]
  },
  {
   "cell_type": "code",
   "execution_count": 261,
   "metadata": {},
   "outputs": [
    {
     "data": {
      "text/plain": [
       "(1102, 290)"
      ]
     },
     "execution_count": 261,
     "metadata": {},
     "output_type": "execute_result"
    }
   ],
   "source": [
    "len(lines),len(entries)"
   ]
  },
  {
   "cell_type": "code",
   "execution_count": 262,
   "metadata": {},
   "outputs": [],
   "source": [
    "#lines[243]"
   ]
  },
  {
   "cell_type": "code",
   "execution_count": 263,
   "metadata": {},
   "outputs": [
    {
     "data": {
      "text/plain": [
       "Index(['ecl', 'byr', 'iyr', 'eyr', 'pid', 'hcl', 'hgt', 'cid'], dtype='object')"
      ]
     },
     "execution_count": 263,
     "metadata": {},
     "output_type": "execute_result"
    }
   ],
   "source": [
    "pd.DataFrame(entries).columns"
   ]
  },
  {
   "cell_type": "code",
   "execution_count": 264,
   "metadata": {},
   "outputs": [],
   "source": [
    "df = pd.DataFrame(entries)"
   ]
  },
  {
   "cell_type": "code",
   "execution_count": 265,
   "metadata": {},
   "outputs": [
    {
     "data": {
      "text/plain": [
       "216"
      ]
     },
     "execution_count": 265,
     "metadata": {},
     "output_type": "execute_result"
    }
   ],
   "source": [
    "len(df[['hcl', 'ecl', 'hgt', 'byr', 'pid', 'eyr', 'iyr']].dropna())"
   ]
  },
  {
   "cell_type": "code",
   "execution_count": 266,
   "metadata": {},
   "outputs": [
    {
     "data": {
      "text/html": [
       "<div>\n",
       "<style scoped>\n",
       "    .dataframe tbody tr th:only-of-type {\n",
       "        vertical-align: middle;\n",
       "    }\n",
       "\n",
       "    .dataframe tbody tr th {\n",
       "        vertical-align: top;\n",
       "    }\n",
       "\n",
       "    .dataframe thead th {\n",
       "        text-align: right;\n",
       "    }\n",
       "</style>\n",
       "<table border=\"1\" class=\"dataframe\">\n",
       "  <thead>\n",
       "    <tr style=\"text-align: right;\">\n",
       "      <th></th>\n",
       "      <th>ecl</th>\n",
       "      <th>byr</th>\n",
       "      <th>iyr</th>\n",
       "      <th>eyr</th>\n",
       "      <th>pid</th>\n",
       "      <th>hcl</th>\n",
       "      <th>hgt</th>\n",
       "      <th>cid</th>\n",
       "    </tr>\n",
       "  </thead>\n",
       "  <tbody>\n",
       "    <tr>\n",
       "      <th>2</th>\n",
       "      <td>brn</td>\n",
       "      <td>1971</td>\n",
       "      <td>2015</td>\n",
       "      <td>2021</td>\n",
       "      <td>158388040</td>\n",
       "      <td>#18171d</td>\n",
       "      <td>179cm</td>\n",
       "      <td>NaN</td>\n",
       "    </tr>\n",
       "    <tr>\n",
       "      <th>3</th>\n",
       "      <td>amb</td>\n",
       "      <td>1936</td>\n",
       "      <td>2014</td>\n",
       "      <td>2030</td>\n",
       "      <td>707057570</td>\n",
       "      <td>#c0946f</td>\n",
       "      <td>186cm</td>\n",
       "      <td>299</td>\n",
       "    </tr>\n",
       "    <tr>\n",
       "      <th>4</th>\n",
       "      <td>gry</td>\n",
       "      <td>1939</td>\n",
       "      <td>2013</td>\n",
       "      <td>2020</td>\n",
       "      <td>241741372</td>\n",
       "      <td>#86e981</td>\n",
       "      <td>163cm</td>\n",
       "      <td>203</td>\n",
       "    </tr>\n",
       "    <tr>\n",
       "      <th>5</th>\n",
       "      <td>brn</td>\n",
       "      <td>1929</td>\n",
       "      <td>2020</td>\n",
       "      <td>2029</td>\n",
       "      <td>686617364</td>\n",
       "      <td>#341e13</td>\n",
       "      <td>160cm</td>\n",
       "      <td>280</td>\n",
       "    </tr>\n",
       "    <tr>\n",
       "      <th>6</th>\n",
       "      <td>hzl</td>\n",
       "      <td>2002</td>\n",
       "      <td>2011</td>\n",
       "      <td>2027</td>\n",
       "      <td>253005469</td>\n",
       "      <td>#623a2f</td>\n",
       "      <td>184cm</td>\n",
       "      <td>NaN</td>\n",
       "    </tr>\n",
       "    <tr>\n",
       "      <th>...</th>\n",
       "      <td>...</td>\n",
       "      <td>...</td>\n",
       "      <td>...</td>\n",
       "      <td>...</td>\n",
       "      <td>...</td>\n",
       "      <td>...</td>\n",
       "      <td>...</td>\n",
       "      <td>...</td>\n",
       "    </tr>\n",
       "    <tr>\n",
       "      <th>284</th>\n",
       "      <td>oth</td>\n",
       "      <td>1996</td>\n",
       "      <td>2015</td>\n",
       "      <td>2025</td>\n",
       "      <td>322775528</td>\n",
       "      <td>#efcc98</td>\n",
       "      <td>155cm</td>\n",
       "      <td>NaN</td>\n",
       "    </tr>\n",
       "    <tr>\n",
       "      <th>286</th>\n",
       "      <td>gry</td>\n",
       "      <td>1929</td>\n",
       "      <td>2011</td>\n",
       "      <td>2029</td>\n",
       "      <td>800222003</td>\n",
       "      <td>#8f8aaa</td>\n",
       "      <td>168cm</td>\n",
       "      <td>NaN</td>\n",
       "    </tr>\n",
       "    <tr>\n",
       "      <th>287</th>\n",
       "      <td>hzl</td>\n",
       "      <td>1970</td>\n",
       "      <td>2020</td>\n",
       "      <td>2020</td>\n",
       "      <td>795434985</td>\n",
       "      <td>#623a2f</td>\n",
       "      <td>168cm</td>\n",
       "      <td>209</td>\n",
       "    </tr>\n",
       "    <tr>\n",
       "      <th>288</th>\n",
       "      <td>#d624ca</td>\n",
       "      <td>2007</td>\n",
       "      <td>2030</td>\n",
       "      <td>1933</td>\n",
       "      <td>713080083</td>\n",
       "      <td>z</td>\n",
       "      <td>188in</td>\n",
       "      <td>325</td>\n",
       "    </tr>\n",
       "    <tr>\n",
       "      <th>289</th>\n",
       "      <td>hzl</td>\n",
       "      <td>1994</td>\n",
       "      <td>2017</td>\n",
       "      <td>2023</td>\n",
       "      <td>431742871</td>\n",
       "      <td>#7d3b0c</td>\n",
       "      <td>169cm</td>\n",
       "      <td>340</td>\n",
       "    </tr>\n",
       "  </tbody>\n",
       "</table>\n",
       "<p>216 rows × 8 columns</p>\n",
       "</div>"
      ],
      "text/plain": [
       "         ecl   byr   iyr   eyr        pid      hcl    hgt  cid\n",
       "2        brn  1971  2015  2021  158388040  #18171d  179cm  NaN\n",
       "3        amb  1936  2014  2030  707057570  #c0946f  186cm  299\n",
       "4        gry  1939  2013  2020  241741372  #86e981  163cm  203\n",
       "5        brn  1929  2020  2029  686617364  #341e13  160cm  280\n",
       "6        hzl  2002  2011  2027  253005469  #623a2f  184cm  NaN\n",
       "..       ...   ...   ...   ...        ...      ...    ...  ...\n",
       "284      oth  1996  2015  2025  322775528  #efcc98  155cm  NaN\n",
       "286      gry  1929  2011  2029  800222003  #8f8aaa  168cm  NaN\n",
       "287      hzl  1970  2020  2020  795434985  #623a2f  168cm  209\n",
       "288  #d624ca  2007  2030  1933  713080083        z  188in  325\n",
       "289      hzl  1994  2017  2023  431742871  #7d3b0c  169cm  340\n",
       "\n",
       "[216 rows x 8 columns]"
      ]
     },
     "execution_count": 266,
     "metadata": {},
     "output_type": "execute_result"
    }
   ],
   "source": [
    "df.iloc[df[['hcl', 'ecl', 'hgt', 'byr', 'pid', 'eyr', 'iyr']].dropna().index]"
   ]
  },
  {
   "cell_type": "code",
   "execution_count": 267,
   "metadata": {},
   "outputs": [
    {
     "data": {
      "text/plain": [
       "1"
      ]
     },
     "execution_count": 267,
     "metadata": {},
     "output_type": "execute_result"
    }
   ],
   "source": [
    "(df[['hcl', 'ecl', 'hgt', 'byr', 'pid', 'eyr', 'iyr']].isna().sum(axis=1)==7).sum()"
   ]
  },
  {
   "cell_type": "code",
   "execution_count": 268,
   "metadata": {},
   "outputs": [
    {
     "data": {
      "text/plain": [
       "216"
      ]
     },
     "execution_count": 268,
     "metadata": {},
     "output_type": "execute_result"
    }
   ],
   "source": [
    "(df[['hcl', 'ecl', 'hgt', 'byr', 'pid', 'eyr', 'iyr']].isna().sum(axis=1)==0).sum()"
   ]
  },
  {
   "cell_type": "code",
   "execution_count": 269,
   "metadata": {},
   "outputs": [
    {
     "data": {
      "text/html": [
       "<div>\n",
       "<style scoped>\n",
       "    .dataframe tbody tr th:only-of-type {\n",
       "        vertical-align: middle;\n",
       "    }\n",
       "\n",
       "    .dataframe tbody tr th {\n",
       "        vertical-align: top;\n",
       "    }\n",
       "\n",
       "    .dataframe thead th {\n",
       "        text-align: right;\n",
       "    }\n",
       "</style>\n",
       "<table border=\"1\" class=\"dataframe\">\n",
       "  <thead>\n",
       "    <tr style=\"text-align: right;\">\n",
       "      <th></th>\n",
       "      <th>ecl</th>\n",
       "      <th>byr</th>\n",
       "      <th>iyr</th>\n",
       "      <th>eyr</th>\n",
       "      <th>pid</th>\n",
       "      <th>hcl</th>\n",
       "      <th>hgt</th>\n",
       "      <th>cid</th>\n",
       "    </tr>\n",
       "  </thead>\n",
       "  <tbody>\n",
       "    <tr>\n",
       "      <th>0</th>\n",
       "      <td>NaN</td>\n",
       "      <td>NaN</td>\n",
       "      <td>NaN</td>\n",
       "      <td>NaN</td>\n",
       "      <td>NaN</td>\n",
       "      <td>NaN</td>\n",
       "      <td>NaN</td>\n",
       "      <td>NaN</td>\n",
       "    </tr>\n",
       "    <tr>\n",
       "      <th>1</th>\n",
       "      <td>amb</td>\n",
       "      <td>1943</td>\n",
       "      <td>2014</td>\n",
       "      <td>2028</td>\n",
       "      <td>333051831</td>\n",
       "      <td>NaN</td>\n",
       "      <td>NaN</td>\n",
       "      <td>NaN</td>\n",
       "    </tr>\n",
       "    <tr>\n",
       "      <th>2</th>\n",
       "      <td>brn</td>\n",
       "      <td>1971</td>\n",
       "      <td>2015</td>\n",
       "      <td>2021</td>\n",
       "      <td>158388040</td>\n",
       "      <td>#18171d</td>\n",
       "      <td>179cm</td>\n",
       "      <td>NaN</td>\n",
       "    </tr>\n",
       "    <tr>\n",
       "      <th>3</th>\n",
       "      <td>amb</td>\n",
       "      <td>1936</td>\n",
       "      <td>2014</td>\n",
       "      <td>2030</td>\n",
       "      <td>707057570</td>\n",
       "      <td>#c0946f</td>\n",
       "      <td>186cm</td>\n",
       "      <td>299</td>\n",
       "    </tr>\n",
       "    <tr>\n",
       "      <th>4</th>\n",
       "      <td>gry</td>\n",
       "      <td>1939</td>\n",
       "      <td>2013</td>\n",
       "      <td>2020</td>\n",
       "      <td>241741372</td>\n",
       "      <td>#86e981</td>\n",
       "      <td>163cm</td>\n",
       "      <td>203</td>\n",
       "    </tr>\n",
       "    <tr>\n",
       "      <th>...</th>\n",
       "      <td>...</td>\n",
       "      <td>...</td>\n",
       "      <td>...</td>\n",
       "      <td>...</td>\n",
       "      <td>...</td>\n",
       "      <td>...</td>\n",
       "      <td>...</td>\n",
       "      <td>...</td>\n",
       "    </tr>\n",
       "    <tr>\n",
       "      <th>285</th>\n",
       "      <td>brn</td>\n",
       "      <td>1960</td>\n",
       "      <td>NaN</td>\n",
       "      <td>2030</td>\n",
       "      <td>764315947</td>\n",
       "      <td>#ceb3a1</td>\n",
       "      <td>183cm</td>\n",
       "      <td>NaN</td>\n",
       "    </tr>\n",
       "    <tr>\n",
       "      <th>286</th>\n",
       "      <td>gry</td>\n",
       "      <td>1929</td>\n",
       "      <td>2011</td>\n",
       "      <td>2029</td>\n",
       "      <td>800222003</td>\n",
       "      <td>#8f8aaa</td>\n",
       "      <td>168cm</td>\n",
       "      <td>NaN</td>\n",
       "    </tr>\n",
       "    <tr>\n",
       "      <th>287</th>\n",
       "      <td>hzl</td>\n",
       "      <td>1970</td>\n",
       "      <td>2020</td>\n",
       "      <td>2020</td>\n",
       "      <td>795434985</td>\n",
       "      <td>#623a2f</td>\n",
       "      <td>168cm</td>\n",
       "      <td>209</td>\n",
       "    </tr>\n",
       "    <tr>\n",
       "      <th>288</th>\n",
       "      <td>#d624ca</td>\n",
       "      <td>2007</td>\n",
       "      <td>2030</td>\n",
       "      <td>1933</td>\n",
       "      <td>713080083</td>\n",
       "      <td>z</td>\n",
       "      <td>188in</td>\n",
       "      <td>325</td>\n",
       "    </tr>\n",
       "    <tr>\n",
       "      <th>289</th>\n",
       "      <td>hzl</td>\n",
       "      <td>1994</td>\n",
       "      <td>2017</td>\n",
       "      <td>2023</td>\n",
       "      <td>431742871</td>\n",
       "      <td>#7d3b0c</td>\n",
       "      <td>169cm</td>\n",
       "      <td>340</td>\n",
       "    </tr>\n",
       "  </tbody>\n",
       "</table>\n",
       "<p>290 rows × 8 columns</p>\n",
       "</div>"
      ],
      "text/plain": [
       "         ecl   byr   iyr   eyr        pid      hcl    hgt  cid\n",
       "0        NaN   NaN   NaN   NaN        NaN      NaN    NaN  NaN\n",
       "1        amb  1943  2014  2028  333051831      NaN    NaN  NaN\n",
       "2        brn  1971  2015  2021  158388040  #18171d  179cm  NaN\n",
       "3        amb  1936  2014  2030  707057570  #c0946f  186cm  299\n",
       "4        gry  1939  2013  2020  241741372  #86e981  163cm  203\n",
       "..       ...   ...   ...   ...        ...      ...    ...  ...\n",
       "285      brn  1960   NaN  2030  764315947  #ceb3a1  183cm  NaN\n",
       "286      gry  1929  2011  2029  800222003  #8f8aaa  168cm  NaN\n",
       "287      hzl  1970  2020  2020  795434985  #623a2f  168cm  209\n",
       "288  #d624ca  2007  2030  1933  713080083        z  188in  325\n",
       "289      hzl  1994  2017  2023  431742871  #7d3b0c  169cm  340\n",
       "\n",
       "[290 rows x 8 columns]"
      ]
     },
     "execution_count": 269,
     "metadata": {},
     "output_type": "execute_result"
    }
   ],
   "source": [
    "df"
   ]
  },
  {
   "cell_type": "markdown",
   "metadata": {},
   "source": [
    "byr (Birth Year) - four digits; at least 1920 and at most 2002.\n",
    "iyr (Issue Year) - four digits; at least 2010 and at most 2020.\n",
    "eyr (Expiration Year) - four digits; at least 2020 and at most 2030.\n",
    "hgt (Height) - a number followed by either cm or in:\n",
    "If cm, the number must be at least 150 and at most 193.\n",
    "If in, the number must be at least 59 and at most 76.\n",
    "hcl (Hair Color) - a # followed by exactly six characters 0-9 or a-f.\n",
    "ecl (Eye Color) - exactly one of: amb blu brn gry grn hzl oth.\n",
    "pid (Passport ID) - a nine-digit number, including leading zeroes.\n",
    "cid (Country ID) - ignored, missing or not."
   ]
  },
  {
   "cell_type": "code",
   "execution_count": 271,
   "metadata": {},
   "outputs": [],
   "source": [
    "#140 too low"
   ]
  },
  {
   "cell_type": "code",
   "execution_count": 274,
   "metadata": {},
   "outputs": [],
   "source": [
    "df['byr_valid'] = (df['byr'].astype(float).between(1920,2002)) & (df['byr'].str.len() == 4) & (df['byr'].str.isdigit())\n",
    "df['iyr_valid'] = (df['iyr'].astype(float).between(2010,2020)) & (df['iyr'].str.len() == 4) & (df['iyr'].str.isdigit())\n",
    "df['eyr_valid'] = (df['eyr'].astype(float).between(2020,2030)) & (df['eyr'].str.len() == 4) & (df['eyr'].str.isdigit())"
   ]
  },
  {
   "cell_type": "code",
   "execution_count": 357,
   "metadata": {},
   "outputs": [],
   "source": [
    "cms = df['hgt'].fillna('').str.contains('cm')\n",
    "cmlen = df[cms]['hgt'].str.replace('cm','').astype('float')\n",
    "\n",
    "ins = df['hgt'].fillna('').str.contains('in')\n",
    "inchlen = df[ins]['hgt'].str.replace('in','').astype('float')\n",
    "vin= (inchlen.between(59,76))\n",
    "vcm = (cmlen.between(150,193)) \n",
    "\n",
    "#have to ve very careful here, since the indexs are not the same, can't just use a boolean operation.\n",
    "df['hgt_valid'] = False\n",
    "df.loc[vin.index,'hgt_valid'] = vin\n",
    "df.loc[vcm.index,'hgt_valid'] = vcm\n",
    "\n",
    "df['hcl_valid'] = (df['hcl'].str.startswith('#')) & (df['hcl'].str.len() == 7) & (df['hcl'].fillna('').str[1:].str.match(r'^[a-z0-9\\.]'))\n",
    "df['ecl_valid'] = df['ecl'].isin(['amb','blu', 'brn', 'gry', 'grn', 'hzl', 'oth'])\n",
    "df['pid_valid'] = (df['pid'].str.len() ==9) & (df['pid'].str.isdigit())"
   ]
  },
  {
   "cell_type": "code",
   "execution_count": null,
   "metadata": {},
   "outputs": [],
   "source": []
  },
  {
   "cell_type": "code",
   "execution_count": null,
   "metadata": {},
   "outputs": [],
   "source": []
  },
  {
   "cell_type": "code",
   "execution_count": null,
   "metadata": {},
   "outputs": [],
   "source": []
  },
  {
   "cell_type": "code",
   "execution_count": 358,
   "metadata": {},
   "outputs": [],
   "source": [
    "#df = df.drop('cid',axis=1)"
   ]
  },
  {
   "cell_type": "code",
   "execution_count": 359,
   "metadata": {},
   "outputs": [
    {
     "data": {
      "text/plain": [
       "Index(['byr_valid', 'iyr_valid', 'eyr_valid', 'hgt_valid', 'hcl_valid',\n",
       "       'ecl_valid', 'pid_valid'],\n",
       "      dtype='object')"
      ]
     },
     "execution_count": 359,
     "metadata": {},
     "output_type": "execute_result"
    }
   ],
   "source": [
    "df.columns[df.columns.str.contains('valid')]"
   ]
  },
  {
   "cell_type": "code",
   "execution_count": 360,
   "metadata": {},
   "outputs": [
    {
     "data": {
      "text/plain": [
       "150"
      ]
     },
     "execution_count": 360,
     "metadata": {},
     "output_type": "execute_result"
    }
   ],
   "source": [
    "(df[['hgt_valid', 'byr_valid', 'iyr_valid', 'eyr_valid', 'hcl_valid',\n",
    "       'ecl_valid', 'pid_valid']].sum(axis=1)==7).sum()"
   ]
  },
  {
   "cell_type": "code",
   "execution_count": 361,
   "metadata": {},
   "outputs": [
    {
     "data": {
      "text/plain": [
       "hgt_valid    220\n",
       "byr_valid    226\n",
       "iyr_valid    227\n",
       "eyr_valid    228\n",
       "hcl_valid    228\n",
       "ecl_valid    226\n",
       "pid_valid    229\n",
       "dtype: int64"
      ]
     },
     "execution_count": 361,
     "metadata": {},
     "output_type": "execute_result"
    }
   ],
   "source": [
    "df[['hgt_valid', 'byr_valid', 'iyr_valid', 'eyr_valid', 'hcl_valid',\n",
    "       'ecl_valid', 'pid_valid']].sum()"
   ]
  },
  {
   "cell_type": "code",
   "execution_count": 362,
   "metadata": {},
   "outputs": [
    {
     "data": {
      "text/plain": [
       "'2020'"
      ]
     },
     "execution_count": 362,
     "metadata": {},
     "output_type": "execute_result"
    }
   ],
   "source": [
    "df.loc[(df[['hgt_valid', 'byr_valid', 'iyr_valid', 'eyr_valid', 'hcl_valid',\n",
    "       'ecl_valid', 'pid_valid']].sum(axis=1)==7)]['iyr'].max()"
   ]
  },
  {
   "cell_type": "code",
   "execution_count": 346,
   "metadata": {},
   "outputs": [],
   "source": [
    "df['myguess'] = (df[['hgt_valid', 'byr_valid', 'iyr_valid', 'eyr_valid', 'hcl_valid',\n",
    "       'ecl_valid', 'pid_valid']].sum(axis=1)==7)"
   ]
  }
 ],
 "metadata": {
  "kernelspec": {
   "display_name": "Python 3",
   "language": "python",
   "name": "python3"
  },
  "language_info": {
   "codemirror_mode": {
    "name": "ipython",
    "version": 3
   },
   "file_extension": ".py",
   "mimetype": "text/x-python",
   "name": "python",
   "nbconvert_exporter": "python",
   "pygments_lexer": "ipython3",
   "version": "3.8.3"
  }
 },
 "nbformat": 4,
 "nbformat_minor": 4
}
