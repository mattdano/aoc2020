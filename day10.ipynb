{
 "cells": [
  {
   "cell_type": "code",
   "execution_count": 1,
   "metadata": {},
   "outputs": [],
   "source": [
    "import numpy as np"
   ]
  },
  {
   "cell_type": "code",
   "execution_count": 53,
   "metadata": {},
   "outputs": [],
   "source": [
    "f=open('./day10/input.txt','r')\n",
    "lines = f.readlines()\n",
    "f.close()"
   ]
  },
  {
   "cell_type": "code",
   "execution_count": 54,
   "metadata": {},
   "outputs": [],
   "source": [
    "import numpy as np\n",
    "nums = np.genfromtxt('./day10/input.txt',dtype='int')"
   ]
  },
  {
   "cell_type": "code",
   "execution_count": 55,
   "metadata": {},
   "outputs": [
    {
     "data": {
      "text/plain": [
       "151"
      ]
     },
     "execution_count": 55,
     "metadata": {},
     "output_type": "execute_result"
    }
   ],
   "source": [
    "max(nums)+3"
   ]
  },
  {
   "cell_type": "code",
   "execution_count": 56,
   "metadata": {},
   "outputs": [],
   "source": [
    "power = nums.tolist()"
   ]
  },
  {
   "cell_type": "code",
   "execution_count": 57,
   "metadata": {},
   "outputs": [
    {
     "data": {
      "text/plain": [
       "1782"
      ]
     },
     "execution_count": 57,
     "metadata": {},
     "output_type": "execute_result"
    }
   ],
   "source": [
    "t= (np.sort(nums)- np.roll(np.sort(nums),1))[1:]\n",
    "(t==3).sum()*(t==1).sum()"
   ]
  },
  {
   "cell_type": "code",
   "execution_count": 58,
   "metadata": {},
   "outputs": [],
   "source": [
    "#not 1782"
   ]
  },
  {
   "cell_type": "code",
   "execution_count": 59,
   "metadata": {},
   "outputs": [],
   "source": [
    "left = sorted(power)"
   ]
  },
  {
   "cell_type": "code",
   "execution_count": 79,
   "metadata": {},
   "outputs": [
    {
     "name": "stdout",
     "output_type": "stream",
     "text": [
      "1876\n"
     ]
    }
   ],
   "source": [
    "tally1 = 0\n",
    "tally3 = 0\n",
    "left = sorted(power)\n",
    "left.append(max(left)+3)\n",
    "left.append(0)\n",
    "left.sort()\n",
    "for i,l in enumerate(left):\n",
    "    #print(left[i+1]-l)\n",
    "    if i<len(left)-1:\n",
    "        diff = left[i+1]-l\n",
    "        if diff ==1:\n",
    "            tally1+=1\n",
    "        elif diff == 3:\n",
    "            tally3+=1\n",
    "\n",
    "print(tally3*tally1)"
   ]
  },
  {
   "cell_type": "code",
   "execution_count": 90,
   "metadata": {},
   "outputs": [
    {
     "data": {
      "text/plain": [
       "array([14173478093824,  7086739046912,  3543369523456,  3543369523456,\n",
       "        3543369523456,  3543369523456,  3543369523456,  1771684761728,\n",
       "         885842380864,   885842380864,   885842380864,   506195646208,\n",
       "         253097823104,   126548911552,   126548911552,   126548911552,\n",
       "          72313663744,    36156831872,    18078415936,    18078415936,\n",
       "          18078415936,    10330523392,     5165261696,     2582630848,\n",
       "           2582630848,     2582630848,     1475789056,      737894528,\n",
       "            368947264,      368947264,      368947264,      368947264,\n",
       "            368947264,      368947264,      184473632,      184473632,\n",
       "            184473632,      184473632,      105413504,       52706752,\n",
       "             26353376,       26353376,       26353376,       15059072,\n",
       "              7529536,        3764768,        3764768,        3764768,\n",
       "              2151296,        1075648,         537824,         537824,\n",
       "               537824,         537824,         537824,         537824,\n",
       "               268912,         134456,         134456,         134456,\n",
       "                67228,          33614,          33614,          33614,\n",
       "                19208,           9604,           4802,           4802,\n",
       "                 4802,           2744,           1372,            686,\n",
       "                  686,            686,            686,            686,\n",
       "                  343,            343,            343,            196,\n",
       "                   98,             49,             49,             49,\n",
       "                   28,             14,              7,              7,\n",
       "                    7,              7,              4,              2,\n",
       "                    1,              1,              1,              1])"
      ]
     },
     "execution_count": 90,
     "metadata": {},
     "output_type": "execute_result"
    }
   ],
   "source": [
    "store = np.zeros(shape=len(left))\n",
    "store[-1]=1\n",
    "for i in range(len(left)-2,-1,-1):\n",
    "    total=0\n",
    "    for j in range(i+1,len(left)):\n",
    "        if 0<left[j]-left[i] and left[j]-left[i]<=3:\n",
    "            total+=store[j]\n",
    "        else:\n",
    "            break\n",
    "    store[i]=total\n",
    "store.astype(int)\n"
   ]
  },
  {
   "cell_type": "code",
   "execution_count": null,
   "metadata": {},
   "outputs": [],
   "source": []
  }
 ],
 "metadata": {
  "kernelspec": {
   "display_name": "Python 3",
   "language": "python",
   "name": "python3"
  },
  "language_info": {
   "codemirror_mode": {
    "name": "ipython",
    "version": 3
   },
   "file_extension": ".py",
   "mimetype": "text/x-python",
   "name": "python",
   "nbconvert_exporter": "python",
   "pygments_lexer": "ipython3",
   "version": "3.8.3"
  }
 },
 "nbformat": 4,
 "nbformat_minor": 4
}
