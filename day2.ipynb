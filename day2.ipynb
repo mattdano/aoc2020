{
 "cells": [
  {
   "cell_type": "code",
   "execution_count": 2,
   "metadata": {},
   "outputs": [],
   "source": [
    "f= open('./day2/input.txt')\n",
    "lines = f.readlines()"
   ]
  },
  {
   "cell_type": "code",
   "execution_count": 21,
   "metadata": {},
   "outputs": [
    {
     "name": "stdout",
     "output_type": "stream",
     "text": [
      "638\n"
     ]
    }
   ],
   "source": [
    "total = 0 \n",
    "for line in lines:\n",
    "    parts = line.split(' ')\n",
    "    #print(parts)\n",
    "    amin,amax = map(int,parts[0].split('-'))\n",
    "    c = parts[1][:-1]\n",
    "    password=parts[2][0:-1]\n",
    "    #print(amin,amax)\n",
    "    #print(c,password)\n",
    "    pos = 0\n",
    "    for ch in password:\n",
    "        if ch == c:\n",
    "            pos+=1\n",
    "            \n",
    "    if pos<=amax and pos >= amin:\n",
    "        total+=1\n",
    "        #print('valid')\n",
    "        #print(amin,amax)\n",
    "        #print(c,password)\n",
    "        #print(line)\n",
    "        #print('')\n",
    "\n",
    "print(total)"
   ]
  },
  {
   "cell_type": "code",
   "execution_count": 11,
   "metadata": {},
   "outputs": [
    {
     "data": {
      "text/plain": [
       "True"
      ]
     },
     "execution_count": 11,
     "metadata": {},
     "output_type": "execute_result"
    }
   ],
   "source": []
  },
  {
   "cell_type": "code",
   "execution_count": 23,
   "metadata": {},
   "outputs": [
    {
     "name": "stdout",
     "output_type": "stream",
     "text": [
      "699\n"
     ]
    }
   ],
   "source": [
    "total = 0 \n",
    "for line in lines:\n",
    "    parts = line.split(' ')\n",
    "    #print(parts)\n",
    "    amin,amax = map(int,parts[0].split('-'))\n",
    "    c = parts[1][:-1]\n",
    "    password=parts[2][0:-1]\n",
    "    #print(amin,amax)\n",
    "    #print(c,password)\n",
    "    pos = 0\n",
    "    \n",
    "    if password[amin-1] == c:\n",
    "        pos+=1\n",
    "    if password[amax-1] == c:\n",
    "        pos+=1\n",
    "    if pos == 1:\n",
    "        total+=1\n",
    "            \n",
    "\n",
    "print(total)"
   ]
  },
  {
   "cell_type": "code",
   "execution_count": null,
   "metadata": {},
   "outputs": [],
   "source": []
  }
 ],
 "metadata": {
  "kernelspec": {
   "display_name": "Python 3",
   "language": "python",
   "name": "python3"
  },
  "language_info": {
   "codemirror_mode": {
    "name": "ipython",
    "version": 3
   },
   "file_extension": ".py",
   "mimetype": "text/x-python",
   "name": "python",
   "nbconvert_exporter": "python",
   "pygments_lexer": "ipython3",
   "version": "3.8.3"
  }
 },
 "nbformat": 4,
 "nbformat_minor": 4
}
